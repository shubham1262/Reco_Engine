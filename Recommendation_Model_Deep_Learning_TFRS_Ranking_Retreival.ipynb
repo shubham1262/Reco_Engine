{
  "nbformat": 4,
  "nbformat_minor": 0,
  "metadata": {
    "colab": {
      "provenance": [],
      "mount_file_id": "1HZawFd0dNR0IBWnBlrL37hgFJA0UjumC",
      "authorship_tag": "ABX9TyPT6sZfmYs2PeLCt6ij0TVT",
      "include_colab_link": true
    },
    "kernelspec": {
      "name": "python3",
      "display_name": "Python 3"
    },
    "language_info": {
      "name": "python"
    }
  },
  "cells": [
    {
      "cell_type": "markdown",
      "metadata": {
        "id": "view-in-github",
        "colab_type": "text"
      },
      "source": [
        "<a href=\"https://colab.research.google.com/github/shubham1262/Reco_Engine/blob/main/Recommendation_Model_Deep_Learning_TFRS_Ranking_Retreival.ipynb\" target=\"_parent\"><img src=\"https://colab.research.google.com/assets/colab-badge.svg\" alt=\"Open In Colab\"/></a>"
      ]
    },
    {
      "cell_type": "code",
      "source": [
        "# !pip install -q tensorflow-recommenders\n",
        "# !pip install -q scann"
      ],
      "metadata": {
        "colab": {
          "base_uri": "https://localhost:8080/"
        },
        "id": "si2Qqw0LL2Sv",
        "outputId": "3b39b24c-7427-459e-e5e1-31c8be94184d"
      },
      "execution_count": null,
      "outputs": [
        {
          "output_type": "stream",
          "name": "stdout",
          "text": [
            "\u001b[2K     \u001b[90m━━━━━━━━━━━━━━━━━━━━━━━━━━━━━━━━━━━━━━━━\u001b[0m \u001b[32m96.2/96.2 KB\u001b[0m \u001b[31m2.6 MB/s\u001b[0m eta \u001b[36m0:00:00\u001b[0m\n",
            "\u001b[2K     \u001b[90m━━━━━━━━━━━━━━━━━━━━━━━━━━━━━━━━━━━━━━━━\u001b[0m \u001b[32m10.5/10.5 MB\u001b[0m \u001b[31m37.1 MB/s\u001b[0m eta \u001b[36m0:00:00\u001b[0m\n",
            "\u001b[2K     \u001b[90m━━━━━━━━━━━━━━━━━━━━━━━━━━━━━━━━━━━━━━━\u001b[0m \u001b[32m588.3/588.3 MB\u001b[0m \u001b[31m1.8 MB/s\u001b[0m eta \u001b[36m0:00:00\u001b[0m\n",
            "\u001b[2K     \u001b[90m━━━━━━━━━━━━━━━━━━━━━━━━━━━━━━━━━━━━━━━━\u001b[0m \u001b[32m6.0/6.0 MB\u001b[0m \u001b[31m81.2 MB/s\u001b[0m eta \u001b[36m0:00:00\u001b[0m\n",
            "\u001b[2K     \u001b[90m━━━━━━━━━━━━━━━━━━━━━━━━━━━━━━━━━━━━━━━━\u001b[0m \u001b[32m1.7/1.7 MB\u001b[0m \u001b[31m53.1 MB/s\u001b[0m eta \u001b[36m0:00:00\u001b[0m\n",
            "\u001b[2K     \u001b[90m━━━━━━━━━━━━━━━━━━━━━━━━━━━━━━━━━━━━━━\u001b[0m \u001b[32m439.2/439.2 KB\u001b[0m \u001b[31m32.6 MB/s\u001b[0m eta \u001b[36m0:00:00\u001b[0m\n",
            "\u001b[?25h"
          ]
        }
      ]
    },
    {
      "cell_type": "code",
      "execution_count": null,
      "metadata": {
        "id": "ecvOm93SxRij"
      },
      "outputs": [],
      "source": [
        "import os\n",
        "import pprint\n",
        "import tempfile\n",
        "from typing import Dict, Text\n",
        "import numpy as np\n",
        "import tensorflow as tf\n",
        "import pandas as pd\n",
        "import string\n",
        "import re\n",
        "import seaborn as sns\n",
        "import matplotlib.pyplot as plt\n",
        "from collections import Counter\n",
        "from ast import literal_eval\n",
        "from datetime import datetime\n",
        "from wordcloud import WordCloud\n",
        "from sklearn.feature_extraction.text import TfidfVectorizer\n",
        "from sklearn.metrics.pairwise import cosine_similarity\n",
        "\n",
        "import warnings\n",
        "warnings.filterwarnings('ignore')"
      ]
    },
    {
      "cell_type": "code",
      "source": [
        "import tensorflow_recommenders as tfrs"
      ],
      "metadata": {
        "id": "RrBz93F5MMDg"
      },
      "execution_count": null,
      "outputs": []
    },
    {
      "cell_type": "markdown",
      "source": [
        "#Data Preprocessing\n",
        "- Reading data from google drive"
      ],
      "metadata": {
        "id": "TATdSKl4MTND"
      }
    },
    {
      "cell_type": "code",
      "source": [
        "video_data=pd.read_csv('/content/drive/MyDrive/Colab Notebooks/Rooters/Video_Data-2.csv',error_bad_lines=False, engine=\"python\",sep= '\\t')\n",
        "interaction_data=pd.read_csv('/content/drive/MyDrive/Colab Notebooks/Rooters/User_Video_Interaction_Data-2.csv',sep= '\\t')\n",
        "user_data=pd.read_csv('/content/drive/MyDrive/Colab Notebooks/Rooters/User_Data-2.csv',sep= '\\t')\n",
        "impression_data=pd.read_csv('/content/drive/MyDrive/Colab Notebooks/Rooters/Impression_Data-2.csv',sep= '\\t')"
      ],
      "metadata": {
        "id": "P-2oukppMN0d"
      },
      "execution_count": null,
      "outputs": []
    },
    {
      "cell_type": "code",
      "source": [
        "video_data.columns"
      ],
      "metadata": {
        "colab": {
          "base_uri": "https://localhost:8080/"
        },
        "id": "6M8VnobvQInu",
        "outputId": "2f3334df-4676-4607-bd38-d74bda10a655"
      },
      "execution_count": null,
      "outputs": [
        {
          "output_type": "execute_result",
          "data": {
            "text/plain": [
              "Index(['Unnamed: 0', 'feed_id', 'title', 'creator_type', 'genre_1', 'genre_2',\n",
              "       'genre_3', 'game', 'lang', 'aspect', 'seconds_to_view', 'duration_min',\n",
              "       'unique_viewers', 'watch_25', 'watch_100', 'likes', 'comments',\n",
              "       'shares', 'ctr', 'creator_score', 'average'],\n",
              "      dtype='object')"
            ]
          },
          "metadata": {},
          "execution_count": 111
        }
      ]
    },
    {
      "cell_type": "code",
      "source": [
        "video_data.head(2)"
      ],
      "metadata": {
        "colab": {
          "base_uri": "https://localhost:8080/",
          "height": 327
        },
        "id": "n8ajickmMfxa",
        "outputId": "890a934f-83a4-4829-f76f-21a3df27d31a"
      },
      "execution_count": null,
      "outputs": [
        {
          "output_type": "execute_result",
          "data": {
            "text/plain": [
              "   Unnamed: 0              feed_id                          title  \\\n",
              "0           0  2365558821355722920     omg you’re so underrated 🥺   \n",
              "1           1  7019053564166970674  aise toh Deewane mujhe pyaar    \n",
              "\n",
              "   creator_type  genre_1  genre_2  genre_3  game lang     aspect  ...  \\\n",
              "0          1000        7        0        0     5   hi   720,1280  ...   \n",
              "1             0        0        0        0     5   hi  1024,1280  ...   \n",
              "\n",
              "   duration_min unique_viewers  watch_25  watch_100  likes  comments  shares  \\\n",
              "0           0-1            178         0         56     12         6       0   \n",
              "1           0-1             68         0         50     25        12       0   \n",
              "\n",
              "        ctr  creator_score  average  \n",
              "0  0.021696           4.00      2.0  \n",
              "1  0.103030           0.01      3.0  \n",
              "\n",
              "[2 rows x 21 columns]"
            ],
            "text/html": [
              "\n",
              "  <div id=\"df-75ecc889-3db2-4a2c-ad2c-e897b320b45c\">\n",
              "    <div class=\"colab-df-container\">\n",
              "      <div>\n",
              "<style scoped>\n",
              "    .dataframe tbody tr th:only-of-type {\n",
              "        vertical-align: middle;\n",
              "    }\n",
              "\n",
              "    .dataframe tbody tr th {\n",
              "        vertical-align: top;\n",
              "    }\n",
              "\n",
              "    .dataframe thead th {\n",
              "        text-align: right;\n",
              "    }\n",
              "</style>\n",
              "<table border=\"1\" class=\"dataframe\">\n",
              "  <thead>\n",
              "    <tr style=\"text-align: right;\">\n",
              "      <th></th>\n",
              "      <th>Unnamed: 0</th>\n",
              "      <th>feed_id</th>\n",
              "      <th>title</th>\n",
              "      <th>creator_type</th>\n",
              "      <th>genre_1</th>\n",
              "      <th>genre_2</th>\n",
              "      <th>genre_3</th>\n",
              "      <th>game</th>\n",
              "      <th>lang</th>\n",
              "      <th>aspect</th>\n",
              "      <th>...</th>\n",
              "      <th>duration_min</th>\n",
              "      <th>unique_viewers</th>\n",
              "      <th>watch_25</th>\n",
              "      <th>watch_100</th>\n",
              "      <th>likes</th>\n",
              "      <th>comments</th>\n",
              "      <th>shares</th>\n",
              "      <th>ctr</th>\n",
              "      <th>creator_score</th>\n",
              "      <th>average</th>\n",
              "    </tr>\n",
              "  </thead>\n",
              "  <tbody>\n",
              "    <tr>\n",
              "      <th>0</th>\n",
              "      <td>0</td>\n",
              "      <td>2365558821355722920</td>\n",
              "      <td>omg you’re so underrated 🥺</td>\n",
              "      <td>1000</td>\n",
              "      <td>7</td>\n",
              "      <td>0</td>\n",
              "      <td>0</td>\n",
              "      <td>5</td>\n",
              "      <td>hi</td>\n",
              "      <td>720,1280</td>\n",
              "      <td>...</td>\n",
              "      <td>0-1</td>\n",
              "      <td>178</td>\n",
              "      <td>0</td>\n",
              "      <td>56</td>\n",
              "      <td>12</td>\n",
              "      <td>6</td>\n",
              "      <td>0</td>\n",
              "      <td>0.021696</td>\n",
              "      <td>4.00</td>\n",
              "      <td>2.0</td>\n",
              "    </tr>\n",
              "    <tr>\n",
              "      <th>1</th>\n",
              "      <td>1</td>\n",
              "      <td>7019053564166970674</td>\n",
              "      <td>aise toh Deewane mujhe pyaar</td>\n",
              "      <td>0</td>\n",
              "      <td>0</td>\n",
              "      <td>0</td>\n",
              "      <td>0</td>\n",
              "      <td>5</td>\n",
              "      <td>hi</td>\n",
              "      <td>1024,1280</td>\n",
              "      <td>...</td>\n",
              "      <td>0-1</td>\n",
              "      <td>68</td>\n",
              "      <td>0</td>\n",
              "      <td>50</td>\n",
              "      <td>25</td>\n",
              "      <td>12</td>\n",
              "      <td>0</td>\n",
              "      <td>0.103030</td>\n",
              "      <td>0.01</td>\n",
              "      <td>3.0</td>\n",
              "    </tr>\n",
              "  </tbody>\n",
              "</table>\n",
              "<p>2 rows × 21 columns</p>\n",
              "</div>\n",
              "      <button class=\"colab-df-convert\" onclick=\"convertToInteractive('df-75ecc889-3db2-4a2c-ad2c-e897b320b45c')\"\n",
              "              title=\"Convert this dataframe to an interactive table.\"\n",
              "              style=\"display:none;\">\n",
              "        \n",
              "  <svg xmlns=\"http://www.w3.org/2000/svg\" height=\"24px\"viewBox=\"0 0 24 24\"\n",
              "       width=\"24px\">\n",
              "    <path d=\"M0 0h24v24H0V0z\" fill=\"none\"/>\n",
              "    <path d=\"M18.56 5.44l.94 2.06.94-2.06 2.06-.94-2.06-.94-.94-2.06-.94 2.06-2.06.94zm-11 1L8.5 8.5l.94-2.06 2.06-.94-2.06-.94L8.5 2.5l-.94 2.06-2.06.94zm10 10l.94 2.06.94-2.06 2.06-.94-2.06-.94-.94-2.06-.94 2.06-2.06.94z\"/><path d=\"M17.41 7.96l-1.37-1.37c-.4-.4-.92-.59-1.43-.59-.52 0-1.04.2-1.43.59L10.3 9.45l-7.72 7.72c-.78.78-.78 2.05 0 2.83L4 21.41c.39.39.9.59 1.41.59.51 0 1.02-.2 1.41-.59l7.78-7.78 2.81-2.81c.8-.78.8-2.07 0-2.86zM5.41 20L4 18.59l7.72-7.72 1.47 1.35L5.41 20z\"/>\n",
              "  </svg>\n",
              "      </button>\n",
              "      \n",
              "  <style>\n",
              "    .colab-df-container {\n",
              "      display:flex;\n",
              "      flex-wrap:wrap;\n",
              "      gap: 12px;\n",
              "    }\n",
              "\n",
              "    .colab-df-convert {\n",
              "      background-color: #E8F0FE;\n",
              "      border: none;\n",
              "      border-radius: 50%;\n",
              "      cursor: pointer;\n",
              "      display: none;\n",
              "      fill: #1967D2;\n",
              "      height: 32px;\n",
              "      padding: 0 0 0 0;\n",
              "      width: 32px;\n",
              "    }\n",
              "\n",
              "    .colab-df-convert:hover {\n",
              "      background-color: #E2EBFA;\n",
              "      box-shadow: 0px 1px 2px rgba(60, 64, 67, 0.3), 0px 1px 3px 1px rgba(60, 64, 67, 0.15);\n",
              "      fill: #174EA6;\n",
              "    }\n",
              "\n",
              "    [theme=dark] .colab-df-convert {\n",
              "      background-color: #3B4455;\n",
              "      fill: #D2E3FC;\n",
              "    }\n",
              "\n",
              "    [theme=dark] .colab-df-convert:hover {\n",
              "      background-color: #434B5C;\n",
              "      box-shadow: 0px 1px 3px 1px rgba(0, 0, 0, 0.15);\n",
              "      filter: drop-shadow(0px 1px 2px rgba(0, 0, 0, 0.3));\n",
              "      fill: #FFFFFF;\n",
              "    }\n",
              "  </style>\n",
              "\n",
              "      <script>\n",
              "        const buttonEl =\n",
              "          document.querySelector('#df-75ecc889-3db2-4a2c-ad2c-e897b320b45c button.colab-df-convert');\n",
              "        buttonEl.style.display =\n",
              "          google.colab.kernel.accessAllowed ? 'block' : 'none';\n",
              "\n",
              "        async function convertToInteractive(key) {\n",
              "          const element = document.querySelector('#df-75ecc889-3db2-4a2c-ad2c-e897b320b45c');\n",
              "          const dataTable =\n",
              "            await google.colab.kernel.invokeFunction('convertToInteractive',\n",
              "                                                     [key], {});\n",
              "          if (!dataTable) return;\n",
              "\n",
              "          const docLinkHtml = 'Like what you see? Visit the ' +\n",
              "            '<a target=\"_blank\" href=https://colab.research.google.com/notebooks/data_table.ipynb>data table notebook</a>'\n",
              "            + ' to learn more about interactive tables.';\n",
              "          element.innerHTML = '';\n",
              "          dataTable['output_type'] = 'display_data';\n",
              "          await google.colab.output.renderOutput(dataTable, element);\n",
              "          const docLink = document.createElement('div');\n",
              "          docLink.innerHTML = docLinkHtml;\n",
              "          element.appendChild(docLink);\n",
              "        }\n",
              "      </script>\n",
              "    </div>\n",
              "  </div>\n",
              "  "
            ]
          },
          "metadata": {},
          "execution_count": 112
        }
      ]
    },
    {
      "cell_type": "code",
      "source": [
        "interaction_data.head(2)"
      ],
      "metadata": {
        "colab": {
          "base_uri": "https://localhost:8080/",
          "height": 112
        },
        "id": "6FCxZx4hMtGK",
        "outputId": "9e35fa37-95f8-423b-dbe3-605bc0b0fb05"
      },
      "execution_count": null,
      "outputs": [
        {
          "output_type": "execute_result",
          "data": {
            "text/plain": [
              "   Unnamed: 0              user_id              feed_id  time_spent\n",
              "0           0   669558848326440488 -6759540015890467708          41\n",
              "1           1  6309124329467062111 -6759540015890467708          47"
            ],
            "text/html": [
              "\n",
              "  <div id=\"df-548913b8-86ec-4140-88c1-5c3e55de61fd\">\n",
              "    <div class=\"colab-df-container\">\n",
              "      <div>\n",
              "<style scoped>\n",
              "    .dataframe tbody tr th:only-of-type {\n",
              "        vertical-align: middle;\n",
              "    }\n",
              "\n",
              "    .dataframe tbody tr th {\n",
              "        vertical-align: top;\n",
              "    }\n",
              "\n",
              "    .dataframe thead th {\n",
              "        text-align: right;\n",
              "    }\n",
              "</style>\n",
              "<table border=\"1\" class=\"dataframe\">\n",
              "  <thead>\n",
              "    <tr style=\"text-align: right;\">\n",
              "      <th></th>\n",
              "      <th>Unnamed: 0</th>\n",
              "      <th>user_id</th>\n",
              "      <th>feed_id</th>\n",
              "      <th>time_spent</th>\n",
              "    </tr>\n",
              "  </thead>\n",
              "  <tbody>\n",
              "    <tr>\n",
              "      <th>0</th>\n",
              "      <td>0</td>\n",
              "      <td>669558848326440488</td>\n",
              "      <td>-6759540015890467708</td>\n",
              "      <td>41</td>\n",
              "    </tr>\n",
              "    <tr>\n",
              "      <th>1</th>\n",
              "      <td>1</td>\n",
              "      <td>6309124329467062111</td>\n",
              "      <td>-6759540015890467708</td>\n",
              "      <td>47</td>\n",
              "    </tr>\n",
              "  </tbody>\n",
              "</table>\n",
              "</div>\n",
              "      <button class=\"colab-df-convert\" onclick=\"convertToInteractive('df-548913b8-86ec-4140-88c1-5c3e55de61fd')\"\n",
              "              title=\"Convert this dataframe to an interactive table.\"\n",
              "              style=\"display:none;\">\n",
              "        \n",
              "  <svg xmlns=\"http://www.w3.org/2000/svg\" height=\"24px\"viewBox=\"0 0 24 24\"\n",
              "       width=\"24px\">\n",
              "    <path d=\"M0 0h24v24H0V0z\" fill=\"none\"/>\n",
              "    <path d=\"M18.56 5.44l.94 2.06.94-2.06 2.06-.94-2.06-.94-.94-2.06-.94 2.06-2.06.94zm-11 1L8.5 8.5l.94-2.06 2.06-.94-2.06-.94L8.5 2.5l-.94 2.06-2.06.94zm10 10l.94 2.06.94-2.06 2.06-.94-2.06-.94-.94-2.06-.94 2.06-2.06.94z\"/><path d=\"M17.41 7.96l-1.37-1.37c-.4-.4-.92-.59-1.43-.59-.52 0-1.04.2-1.43.59L10.3 9.45l-7.72 7.72c-.78.78-.78 2.05 0 2.83L4 21.41c.39.39.9.59 1.41.59.51 0 1.02-.2 1.41-.59l7.78-7.78 2.81-2.81c.8-.78.8-2.07 0-2.86zM5.41 20L4 18.59l7.72-7.72 1.47 1.35L5.41 20z\"/>\n",
              "  </svg>\n",
              "      </button>\n",
              "      \n",
              "  <style>\n",
              "    .colab-df-container {\n",
              "      display:flex;\n",
              "      flex-wrap:wrap;\n",
              "      gap: 12px;\n",
              "    }\n",
              "\n",
              "    .colab-df-convert {\n",
              "      background-color: #E8F0FE;\n",
              "      border: none;\n",
              "      border-radius: 50%;\n",
              "      cursor: pointer;\n",
              "      display: none;\n",
              "      fill: #1967D2;\n",
              "      height: 32px;\n",
              "      padding: 0 0 0 0;\n",
              "      width: 32px;\n",
              "    }\n",
              "\n",
              "    .colab-df-convert:hover {\n",
              "      background-color: #E2EBFA;\n",
              "      box-shadow: 0px 1px 2px rgba(60, 64, 67, 0.3), 0px 1px 3px 1px rgba(60, 64, 67, 0.15);\n",
              "      fill: #174EA6;\n",
              "    }\n",
              "\n",
              "    [theme=dark] .colab-df-convert {\n",
              "      background-color: #3B4455;\n",
              "      fill: #D2E3FC;\n",
              "    }\n",
              "\n",
              "    [theme=dark] .colab-df-convert:hover {\n",
              "      background-color: #434B5C;\n",
              "      box-shadow: 0px 1px 3px 1px rgba(0, 0, 0, 0.15);\n",
              "      filter: drop-shadow(0px 1px 2px rgba(0, 0, 0, 0.3));\n",
              "      fill: #FFFFFF;\n",
              "    }\n",
              "  </style>\n",
              "\n",
              "      <script>\n",
              "        const buttonEl =\n",
              "          document.querySelector('#df-548913b8-86ec-4140-88c1-5c3e55de61fd button.colab-df-convert');\n",
              "        buttonEl.style.display =\n",
              "          google.colab.kernel.accessAllowed ? 'block' : 'none';\n",
              "\n",
              "        async function convertToInteractive(key) {\n",
              "          const element = document.querySelector('#df-548913b8-86ec-4140-88c1-5c3e55de61fd');\n",
              "          const dataTable =\n",
              "            await google.colab.kernel.invokeFunction('convertToInteractive',\n",
              "                                                     [key], {});\n",
              "          if (!dataTable) return;\n",
              "\n",
              "          const docLinkHtml = 'Like what you see? Visit the ' +\n",
              "            '<a target=\"_blank\" href=https://colab.research.google.com/notebooks/data_table.ipynb>data table notebook</a>'\n",
              "            + ' to learn more about interactive tables.';\n",
              "          element.innerHTML = '';\n",
              "          dataTable['output_type'] = 'display_data';\n",
              "          await google.colab.output.renderOutput(dataTable, element);\n",
              "          const docLink = document.createElement('div');\n",
              "          docLink.innerHTML = docLinkHtml;\n",
              "          element.appendChild(docLink);\n",
              "        }\n",
              "      </script>\n",
              "    </div>\n",
              "  </div>\n",
              "  "
            ]
          },
          "metadata": {},
          "execution_count": 113
        }
      ]
    },
    {
      "cell_type": "code",
      "source": [
        "user_data.head(2)"
      ],
      "metadata": {
        "colab": {
          "base_uri": "https://localhost:8080/",
          "height": 112
        },
        "id": "Yw3M13GxM1mu",
        "outputId": "c7f6e974-013d-45d4-c134-1061cd55d7cb"
      },
      "execution_count": null,
      "outputs": [
        {
          "output_type": "execute_result",
          "data": {
            "text/plain": [
              "   Unnamed: 0              user_id  game_id\n",
              "0           0 -1475653015642069795        5\n",
              "1           1 -5431973823219341366   600916"
            ],
            "text/html": [
              "\n",
              "  <div id=\"df-371dc45b-588d-4b7e-b7a3-9dd6c64b4090\">\n",
              "    <div class=\"colab-df-container\">\n",
              "      <div>\n",
              "<style scoped>\n",
              "    .dataframe tbody tr th:only-of-type {\n",
              "        vertical-align: middle;\n",
              "    }\n",
              "\n",
              "    .dataframe tbody tr th {\n",
              "        vertical-align: top;\n",
              "    }\n",
              "\n",
              "    .dataframe thead th {\n",
              "        text-align: right;\n",
              "    }\n",
              "</style>\n",
              "<table border=\"1\" class=\"dataframe\">\n",
              "  <thead>\n",
              "    <tr style=\"text-align: right;\">\n",
              "      <th></th>\n",
              "      <th>Unnamed: 0</th>\n",
              "      <th>user_id</th>\n",
              "      <th>game_id</th>\n",
              "    </tr>\n",
              "  </thead>\n",
              "  <tbody>\n",
              "    <tr>\n",
              "      <th>0</th>\n",
              "      <td>0</td>\n",
              "      <td>-1475653015642069795</td>\n",
              "      <td>5</td>\n",
              "    </tr>\n",
              "    <tr>\n",
              "      <th>1</th>\n",
              "      <td>1</td>\n",
              "      <td>-5431973823219341366</td>\n",
              "      <td>600916</td>\n",
              "    </tr>\n",
              "  </tbody>\n",
              "</table>\n",
              "</div>\n",
              "      <button class=\"colab-df-convert\" onclick=\"convertToInteractive('df-371dc45b-588d-4b7e-b7a3-9dd6c64b4090')\"\n",
              "              title=\"Convert this dataframe to an interactive table.\"\n",
              "              style=\"display:none;\">\n",
              "        \n",
              "  <svg xmlns=\"http://www.w3.org/2000/svg\" height=\"24px\"viewBox=\"0 0 24 24\"\n",
              "       width=\"24px\">\n",
              "    <path d=\"M0 0h24v24H0V0z\" fill=\"none\"/>\n",
              "    <path d=\"M18.56 5.44l.94 2.06.94-2.06 2.06-.94-2.06-.94-.94-2.06-.94 2.06-2.06.94zm-11 1L8.5 8.5l.94-2.06 2.06-.94-2.06-.94L8.5 2.5l-.94 2.06-2.06.94zm10 10l.94 2.06.94-2.06 2.06-.94-2.06-.94-.94-2.06-.94 2.06-2.06.94z\"/><path d=\"M17.41 7.96l-1.37-1.37c-.4-.4-.92-.59-1.43-.59-.52 0-1.04.2-1.43.59L10.3 9.45l-7.72 7.72c-.78.78-.78 2.05 0 2.83L4 21.41c.39.39.9.59 1.41.59.51 0 1.02-.2 1.41-.59l7.78-7.78 2.81-2.81c.8-.78.8-2.07 0-2.86zM5.41 20L4 18.59l7.72-7.72 1.47 1.35L5.41 20z\"/>\n",
              "  </svg>\n",
              "      </button>\n",
              "      \n",
              "  <style>\n",
              "    .colab-df-container {\n",
              "      display:flex;\n",
              "      flex-wrap:wrap;\n",
              "      gap: 12px;\n",
              "    }\n",
              "\n",
              "    .colab-df-convert {\n",
              "      background-color: #E8F0FE;\n",
              "      border: none;\n",
              "      border-radius: 50%;\n",
              "      cursor: pointer;\n",
              "      display: none;\n",
              "      fill: #1967D2;\n",
              "      height: 32px;\n",
              "      padding: 0 0 0 0;\n",
              "      width: 32px;\n",
              "    }\n",
              "\n",
              "    .colab-df-convert:hover {\n",
              "      background-color: #E2EBFA;\n",
              "      box-shadow: 0px 1px 2px rgba(60, 64, 67, 0.3), 0px 1px 3px 1px rgba(60, 64, 67, 0.15);\n",
              "      fill: #174EA6;\n",
              "    }\n",
              "\n",
              "    [theme=dark] .colab-df-convert {\n",
              "      background-color: #3B4455;\n",
              "      fill: #D2E3FC;\n",
              "    }\n",
              "\n",
              "    [theme=dark] .colab-df-convert:hover {\n",
              "      background-color: #434B5C;\n",
              "      box-shadow: 0px 1px 3px 1px rgba(0, 0, 0, 0.15);\n",
              "      filter: drop-shadow(0px 1px 2px rgba(0, 0, 0, 0.3));\n",
              "      fill: #FFFFFF;\n",
              "    }\n",
              "  </style>\n",
              "\n",
              "      <script>\n",
              "        const buttonEl =\n",
              "          document.querySelector('#df-371dc45b-588d-4b7e-b7a3-9dd6c64b4090 button.colab-df-convert');\n",
              "        buttonEl.style.display =\n",
              "          google.colab.kernel.accessAllowed ? 'block' : 'none';\n",
              "\n",
              "        async function convertToInteractive(key) {\n",
              "          const element = document.querySelector('#df-371dc45b-588d-4b7e-b7a3-9dd6c64b4090');\n",
              "          const dataTable =\n",
              "            await google.colab.kernel.invokeFunction('convertToInteractive',\n",
              "                                                     [key], {});\n",
              "          if (!dataTable) return;\n",
              "\n",
              "          const docLinkHtml = 'Like what you see? Visit the ' +\n",
              "            '<a target=\"_blank\" href=https://colab.research.google.com/notebooks/data_table.ipynb>data table notebook</a>'\n",
              "            + ' to learn more about interactive tables.';\n",
              "          element.innerHTML = '';\n",
              "          dataTable['output_type'] = 'display_data';\n",
              "          await google.colab.output.renderOutput(dataTable, element);\n",
              "          const docLink = document.createElement('div');\n",
              "          docLink.innerHTML = docLinkHtml;\n",
              "          element.appendChild(docLink);\n",
              "        }\n",
              "      </script>\n",
              "    </div>\n",
              "  </div>\n",
              "  "
            ]
          },
          "metadata": {},
          "execution_count": 114
        }
      ]
    },
    {
      "cell_type": "code",
      "source": [
        "impression_data.head(2)"
      ],
      "metadata": {
        "colab": {
          "base_uri": "https://localhost:8080/",
          "height": 112
        },
        "id": "idNndSLeM4du",
        "outputId": "f2bf227d-4b75-41a7-8966-b1b594df181d"
      },
      "execution_count": null,
      "outputs": [
        {
          "output_type": "execute_result",
          "data": {
            "text/plain": [
              "   Unnamed: 0              user_id              feed_id  impression\n",
              "0           0 -5666044079884959429 -4066194066508426628           1\n",
              "1           1 -4106946826626100761  8779021150976961603           1"
            ],
            "text/html": [
              "\n",
              "  <div id=\"df-2dc280ed-2cb5-4da6-96b5-03ef740b049d\">\n",
              "    <div class=\"colab-df-container\">\n",
              "      <div>\n",
              "<style scoped>\n",
              "    .dataframe tbody tr th:only-of-type {\n",
              "        vertical-align: middle;\n",
              "    }\n",
              "\n",
              "    .dataframe tbody tr th {\n",
              "        vertical-align: top;\n",
              "    }\n",
              "\n",
              "    .dataframe thead th {\n",
              "        text-align: right;\n",
              "    }\n",
              "</style>\n",
              "<table border=\"1\" class=\"dataframe\">\n",
              "  <thead>\n",
              "    <tr style=\"text-align: right;\">\n",
              "      <th></th>\n",
              "      <th>Unnamed: 0</th>\n",
              "      <th>user_id</th>\n",
              "      <th>feed_id</th>\n",
              "      <th>impression</th>\n",
              "    </tr>\n",
              "  </thead>\n",
              "  <tbody>\n",
              "    <tr>\n",
              "      <th>0</th>\n",
              "      <td>0</td>\n",
              "      <td>-5666044079884959429</td>\n",
              "      <td>-4066194066508426628</td>\n",
              "      <td>1</td>\n",
              "    </tr>\n",
              "    <tr>\n",
              "      <th>1</th>\n",
              "      <td>1</td>\n",
              "      <td>-4106946826626100761</td>\n",
              "      <td>8779021150976961603</td>\n",
              "      <td>1</td>\n",
              "    </tr>\n",
              "  </tbody>\n",
              "</table>\n",
              "</div>\n",
              "      <button class=\"colab-df-convert\" onclick=\"convertToInteractive('df-2dc280ed-2cb5-4da6-96b5-03ef740b049d')\"\n",
              "              title=\"Convert this dataframe to an interactive table.\"\n",
              "              style=\"display:none;\">\n",
              "        \n",
              "  <svg xmlns=\"http://www.w3.org/2000/svg\" height=\"24px\"viewBox=\"0 0 24 24\"\n",
              "       width=\"24px\">\n",
              "    <path d=\"M0 0h24v24H0V0z\" fill=\"none\"/>\n",
              "    <path d=\"M18.56 5.44l.94 2.06.94-2.06 2.06-.94-2.06-.94-.94-2.06-.94 2.06-2.06.94zm-11 1L8.5 8.5l.94-2.06 2.06-.94-2.06-.94L8.5 2.5l-.94 2.06-2.06.94zm10 10l.94 2.06.94-2.06 2.06-.94-2.06-.94-.94-2.06-.94 2.06-2.06.94z\"/><path d=\"M17.41 7.96l-1.37-1.37c-.4-.4-.92-.59-1.43-.59-.52 0-1.04.2-1.43.59L10.3 9.45l-7.72 7.72c-.78.78-.78 2.05 0 2.83L4 21.41c.39.39.9.59 1.41.59.51 0 1.02-.2 1.41-.59l7.78-7.78 2.81-2.81c.8-.78.8-2.07 0-2.86zM5.41 20L4 18.59l7.72-7.72 1.47 1.35L5.41 20z\"/>\n",
              "  </svg>\n",
              "      </button>\n",
              "      \n",
              "  <style>\n",
              "    .colab-df-container {\n",
              "      display:flex;\n",
              "      flex-wrap:wrap;\n",
              "      gap: 12px;\n",
              "    }\n",
              "\n",
              "    .colab-df-convert {\n",
              "      background-color: #E8F0FE;\n",
              "      border: none;\n",
              "      border-radius: 50%;\n",
              "      cursor: pointer;\n",
              "      display: none;\n",
              "      fill: #1967D2;\n",
              "      height: 32px;\n",
              "      padding: 0 0 0 0;\n",
              "      width: 32px;\n",
              "    }\n",
              "\n",
              "    .colab-df-convert:hover {\n",
              "      background-color: #E2EBFA;\n",
              "      box-shadow: 0px 1px 2px rgba(60, 64, 67, 0.3), 0px 1px 3px 1px rgba(60, 64, 67, 0.15);\n",
              "      fill: #174EA6;\n",
              "    }\n",
              "\n",
              "    [theme=dark] .colab-df-convert {\n",
              "      background-color: #3B4455;\n",
              "      fill: #D2E3FC;\n",
              "    }\n",
              "\n",
              "    [theme=dark] .colab-df-convert:hover {\n",
              "      background-color: #434B5C;\n",
              "      box-shadow: 0px 1px 3px 1px rgba(0, 0, 0, 0.15);\n",
              "      filter: drop-shadow(0px 1px 2px rgba(0, 0, 0, 0.3));\n",
              "      fill: #FFFFFF;\n",
              "    }\n",
              "  </style>\n",
              "\n",
              "      <script>\n",
              "        const buttonEl =\n",
              "          document.querySelector('#df-2dc280ed-2cb5-4da6-96b5-03ef740b049d button.colab-df-convert');\n",
              "        buttonEl.style.display =\n",
              "          google.colab.kernel.accessAllowed ? 'block' : 'none';\n",
              "\n",
              "        async function convertToInteractive(key) {\n",
              "          const element = document.querySelector('#df-2dc280ed-2cb5-4da6-96b5-03ef740b049d');\n",
              "          const dataTable =\n",
              "            await google.colab.kernel.invokeFunction('convertToInteractive',\n",
              "                                                     [key], {});\n",
              "          if (!dataTable) return;\n",
              "\n",
              "          const docLinkHtml = 'Like what you see? Visit the ' +\n",
              "            '<a target=\"_blank\" href=https://colab.research.google.com/notebooks/data_table.ipynb>data table notebook</a>'\n",
              "            + ' to learn more about interactive tables.';\n",
              "          element.innerHTML = '';\n",
              "          dataTable['output_type'] = 'display_data';\n",
              "          await google.colab.output.renderOutput(dataTable, element);\n",
              "          const docLink = document.createElement('div');\n",
              "          docLink.innerHTML = docLinkHtml;\n",
              "          element.appendChild(docLink);\n",
              "        }\n",
              "      </script>\n",
              "    </div>\n",
              "  </div>\n",
              "  "
            ]
          },
          "metadata": {},
          "execution_count": 115
        }
      ]
    },
    {
      "cell_type": "markdown",
      "source": [
        "# Video Data\n",
        "- Dropping columns not relevant\n"
      ],
      "metadata": {
        "id": "Il4yot0ENAZc"
      }
    },
    {
      "cell_type": "code",
      "source": [
        "video_data['feed_id']=video_data['feed_id'].astype(str)"
      ],
      "metadata": {
        "id": "wnghhNqjtMMm"
      },
      "execution_count": null,
      "outputs": []
    },
    {
      "cell_type": "code",
      "source": [
        "video_data.drop(['Unnamed: 0','aspect','duration_min','average'], axis=1, inplace=True)\n",
        "#Duration_min has different data types in it : not clean data\n",
        "#Average is a score I believe, but I'll be creating score for these videos from scratch using few columns"
      ],
      "metadata": {
        "id": "EUkyVxXlP3Dq"
      },
      "execution_count": null,
      "outputs": []
    },
    {
      "cell_type": "code",
      "source": [
        "genre_map={1:'Contest', 2:'Funny',3:'Informative',4:'Lifestyle',5:'Moments',6:'Skills',7:'Gameplay', 8:'Entertainment'}\n",
        "\n",
        "# Mapping genre\n",
        "video_data['genre_1']=video_data['genre_1'].map(genre_map)\n",
        "video_data['genre_2']=video_data['genre_2'].map(genre_map)\n",
        "video_data['genre_3']=video_data['genre_3'].map(genre_map)\n",
        "\n",
        "#Final genre is concatenation of genre_1, genre_2, genre_3\n",
        "video_data['genre']=video_data['genre_1'].astype(str) + ' ' + video_data['genre_2'].astype(str) + ' ' + video_data['genre_3'].astype(str) \n",
        "\n",
        "video_data['genre'] = video_data['genre'].str.replace('nan','')\n",
        "video_data['genre'] = video_data['genre'].str.strip()\n",
        "video_data['genre'] = np.where(video_data['genre'] == '', 'Others',video_data['genre'])\n",
        "\n",
        "video_data.drop(video_data[['genre_1','genre_2','genre_3']],axis=1,inplace=True)"
      ],
      "metadata": {
        "id": "DsuwyIESM6md"
      },
      "execution_count": null,
      "outputs": []
    },
    {
      "cell_type": "markdown",
      "source": [
        "- Mapping Game IDs"
      ],
      "metadata": {
        "id": "VONet8X2PAar"
      }
    },
    {
      "cell_type": "code",
      "source": [
        "video_data['game']=video_data['game'].astype(str)\n",
        "\n",
        "video_data['game']=np.where(video_data['game']=='5','Free Fire',video_data['game'])\n",
        "video_data['game']=np.where(video_data['game']=='2037279','Battle Ground Mobile India',video_data['game'])\n",
        "video_data['game']=np.where(video_data['game']=='1636599','GTA-V',video_data['game'])\n",
        "video_data['game']=np.where(video_data['game']=='20161','Minecraft',video_data['game'])\n",
        "video_data['game']=np.where(video_data['game']=='600916','Free Fire Max',video_data['game'])\n",
        "video_data['game']=np.where(video_data['game']=='15393','Valorant',video_data['game'])\n"
      ],
      "metadata": {
        "id": "xqiopHB1NsBh"
      },
      "execution_count": null,
      "outputs": []
    },
    {
      "cell_type": "markdown",
      "source": [
        "- Adding game name in titles, for those which didnt have game names mentioned in them. Reason: Word Embeddings for recommendation model will work better with this addition in titles"
      ],
      "metadata": {
        "id": "qLu0sqmYRMA6"
      }
    },
    {
      "cell_type": "code",
      "source": [
        "video_data['flag'] = video_data.apply(lambda x: x.game in x.title, axis=1)\n",
        "\n",
        "video_data['title']=np.where(video_data['flag']==False,video_data['title'].astype(str)+', #'+video_data['game'].astype(str),video_data['title'])\n",
        "video_data.drop(video_data[['flag']],axis=1,inplace=True)"
      ],
      "metadata": {
        "id": "tj_7bfHsRCUC"
      },
      "execution_count": null,
      "outputs": []
    },
    {
      "cell_type": "markdown",
      "source": [
        "- **[Important]** Creating an average score based on ['unique_viewers','watch_25','watch_100','likes', 'comments', 'shares', 'ctr', 'creator_score'] \n",
        "\n",
        "We could've taken weighted average of different column based on their importance, but for the assignment I've kept it simple. \n",
        "- 1. Normalizing data to be in 1-10 scale\n",
        "- 2. Take average of all the scores and then normalize it again"
      ],
      "metadata": {
        "id": "iXw13tIfR6sJ"
      }
    },
    {
      "cell_type": "code",
      "source": [
        "weighted_df=pd.DataFrame()\n",
        "\n",
        "cols_to_normalize=['unique_viewers','watch_25','watch_100','likes', 'comments', 'shares', 'ctr', 'creator_score']\n",
        "\n",
        "for col in cols_to_normalize:\n",
        "  arr=video_data['unique_viewers'].to_numpy()\n",
        "  start=1\n",
        "  end=10\n",
        "  width= end-start\n",
        "  res=(arr-arr.min())/arr.ptp()*width+start #Normalizing on the scale of 1-10\n",
        "  weighted_df[f'{col}_1_10'] = res.tolist()\n",
        "\n",
        "weighted_df['video_score']=((weighted_df['unique_viewers_1_10']+weighted_df['watch_25_1_10']+weighted_df['watch_100_1_10']+weighted_df['likes_1_10']+weighted_df['comments_1_10']+weighted_df['shares_1_10']+weighted_df['ctr_1_10']+weighted_df['creator_score_1_10'])/8).round(2)\n",
        "\n",
        "video_data = pd.concat([video_data,weighted_df],axis=1)\n",
        "video_data.drop(['unique_viewers_1_10','watch_25_1_10','watch_100_1_10','likes_1_10','comments_1_10','shares_1_10','ctr_1_10','creator_score_1_10'],axis=1,inplace=True)"
      ],
      "metadata": {
        "id": "85yVg5qDRd9n"
      },
      "execution_count": null,
      "outputs": []
    },
    {
      "cell_type": "markdown",
      "source": [
        "- CTR should be in percentage for easy read, so multiplying by 100"
      ],
      "metadata": {
        "id": "LEIaQ1DBUg2C"
      }
    },
    {
      "cell_type": "code",
      "source": [
        "video_data['ctr']=(video_data['ctr']*100).round(2)"
      ],
      "metadata": {
        "id": "6no5YR64S6xf"
      },
      "execution_count": null,
      "outputs": []
    },
    {
      "cell_type": "markdown",
      "source": [
        "- Splitting videos into two types: Reels and Videos"
      ],
      "metadata": {
        "id": "mNnjdRu9dTW4"
      }
    },
    {
      "cell_type": "code",
      "source": [
        "video_data['feed_type']=np.where(video_data['seconds_to_view']<=60,'Reel','Video')\n",
        "video_data.drop(columns=['seconds_to_view'],axis=1,inplace=True)"
      ],
      "metadata": {
        "id": "SAEGCS6xdSnw"
      },
      "execution_count": null,
      "outputs": []
    },
    {
      "cell_type": "code",
      "source": [
        "video_data_cleaned=video_data"
      ],
      "metadata": {
        "id": "3IYoE3DceDKQ"
      },
      "execution_count": null,
      "outputs": []
    },
    {
      "cell_type": "markdown",
      "source": [
        "# Interaction Data, User_Data, Impressions_data "
      ],
      "metadata": {
        "id": "1RFrZN0WVThO"
      }
    },
    {
      "cell_type": "code",
      "source": [
        "interaction_data.drop(interaction_data[['Unnamed: 0']],axis=1,inplace=True)\n",
        "user_data.drop(user_data[['Unnamed: 0']],axis=1,inplace=True)\n",
        "impression_data.drop(impression_data[['Unnamed: 0']],axis=1,inplace=True)\n",
        "\n",
        "# Converting int to string\n",
        "interaction_data['feed_id']=interaction_data['feed_id'].astype(str)\n",
        "interaction_data['user_id']=interaction_data['user_id'].astype(str)\n",
        "\n",
        "user_data['user_id']=user_data['user_id'].astype(str)\n",
        "\n",
        "impression_data['feed_id']=impression_data['feed_id'].astype(str)\n",
        "impression_data['user_id']=impression_data['user_id'].astype(str)"
      ],
      "metadata": {
        "id": "5XUMXSNZUDgx"
      },
      "execution_count": null,
      "outputs": []
    },
    {
      "cell_type": "code",
      "source": [
        "#Inner join (Interaction and Impression) to reduce sparsity of data. In real world we could've done an outer join and imputed the missing values.\n",
        "Interaction_Impression=pd.merge(interaction_data,impression_data,on=['user_id','feed_id'],how='inner') "
      ],
      "metadata": {
        "id": "54GHjTtoWBpq"
      },
      "execution_count": null,
      "outputs": []
    },
    {
      "cell_type": "code",
      "source": [
        "# An user is following multiple games, so removing duplicated user-game mapping by grouping all games liked by user into one row\n",
        "\n",
        "user_data['game_id']=user_data['game_id'].astype('str')\n",
        "\n",
        "user_data['game_id']=np.where(user_data['game_id']=='5','Free Fire',user_data['game_id'])\n",
        "user_data['game_id']=np.where(user_data['game_id']=='2037279','Battle Ground Mobile India',user_data['game_id'])\n",
        "user_data['game_id']=np.where(user_data['game_id']=='1636599','GTA-V',user_data['game_id'])\n",
        "user_data['game_id']=np.where(user_data['game_id']=='20161','Minecraft',user_data['game_id'])\n",
        "user_data['game_id']=np.where(user_data['game_id']=='600916','Free Fire Max',user_data['game_id'])\n",
        "user_data['game_id']=np.where(user_data['game_id']=='15393','Valorant',user_data['game_id'])\n",
        "\n",
        "user_game_followed=pd.DataFrame(user_data.groupby('user_id')['game_id'].apply(list).to_dict().items(), columns=['user_id', 'games_followed']) \n",
        "user_game_followed['games_followed']=[', '.join(map(str, l)) for l in user_game_followed['games_followed']]"
      ],
      "metadata": {
        "id": "K639v1ZPXAEG"
      },
      "execution_count": null,
      "outputs": []
    },
    {
      "cell_type": "code",
      "source": [
        "# Joining Interaction, Impression and User like data\n",
        "Interaction_Impression_User=pd.merge(Interaction_Impression,user_game_followed,on=['user_id'],how='left')"
      ],
      "metadata": {
        "id": "-hJBqBMDWTse"
      },
      "execution_count": null,
      "outputs": []
    },
    {
      "cell_type": "markdown",
      "source": [
        "- Final Data Sets are ready"
      ],
      "metadata": {
        "id": "ObVJoNQEZyWT"
      }
    },
    {
      "cell_type": "markdown",
      "source": [
        "### Joining User level data with feed metadata"
      ],
      "metadata": {
        "id": "NBkVs7UFghOH"
      }
    },
    {
      "cell_type": "code",
      "source": [
        "final_data=pd.merge(Interaction_Impression_User,video_data_cleaned[['feed_id','title','creator_type','game','lang','genre','feed_type','video_score']],on=['feed_id'],how='left')"
      ],
      "metadata": {
        "id": "giUQ7IQ4baBr"
      },
      "execution_count": null,
      "outputs": []
    },
    {
      "cell_type": "markdown",
      "source": [
        "# Final Scoring"
      ],
      "metadata": {
        "id": "gC5x3h1LFOQ-"
      }
    },
    {
      "cell_type": "markdown",
      "source": [
        "> We are penalizing video_score(0.3) (how good a video is doing world wide), to make sure that we are not biased towards popular content"
      ],
      "metadata": {
        "id": "t5A0P2JYFPmH"
      }
    },
    {
      "cell_type": "code",
      "source": [
        "final_data['video_score'].fillna(final_data['video_score'].mean(),inplace=True)\n",
        "\n",
        "final_data['score'] = final_data['time_spent']*0.5 + final_data['impression']*0.2 + final_data['video_score']*0.3\n",
        "\n",
        "\n",
        "arr=final_data['score'].to_numpy()\n",
        "start=1\n",
        "end=10\n",
        "width= end-start\n",
        "res=(arr-arr.min())/arr.ptp()*width+start #Normalizing on the scale of 1-10\n",
        "final_data['score'] = res.tolist()"
      ],
      "metadata": {
        "id": "V1uPhRV4E7cP"
      },
      "execution_count": null,
      "outputs": []
    },
    {
      "cell_type": "markdown",
      "source": [
        "# EDA"
      ],
      "metadata": {
        "id": "u7cV-tNPj1NY"
      }
    },
    {
      "cell_type": "markdown",
      "source": [
        "> I like to use Tableau or Looker for faster EDA and better looking graphs."
      ],
      "metadata": {
        "id": "SgyoannZ_99g"
      }
    },
    {
      "cell_type": "code",
      "source": [
        "user_count=final_data['user_id'].nunique()\n",
        "avg_time_feedtype=final_data.groupby(['feed_type'])['time_spent'].agg(['mean']).reset_index()\n",
        "avg_time_feedtype['watch_time_per_feed']=(avg_time_feedtype['mean']/user_count)*1000000\n",
        "plt.pie(avg_time_feedtype['watch_time_per_feed'], labels=avg_time_feedtype['feed_type'])\n",
        "plt.title('Avg Watchtime per viewer across Video Type')\n",
        "plt.show()"
      ],
      "metadata": {
        "colab": {
          "base_uri": "https://localhost:8080/",
          "height": 264
        },
        "id": "01fn1waf_8mV",
        "outputId": "3d8f31e2-9e01-4e5f-8e78-671ea2ac51a1"
      },
      "execution_count": null,
      "outputs": [
        {
          "output_type": "display_data",
          "data": {
            "text/plain": [
              "<Figure size 432x288 with 1 Axes>"
            ],
            "image/png": "[encoded data removed]"
          },
          "metadata": {}
        }
      ]
    },
    {
      "cell_type": "code",
      "source": [
        "user_count=final_data['user_id'].nunique()\n",
        "avg_time_lang=final_data.groupby(['lang'])['time_spent'].agg(['mean']).reset_index()\n",
        "avg_time_lang['watch_time_per_game']=(avg_time_lang['mean']/user_count)*1000000\n",
        "plt.pie(avg_time_lang['watch_time_per_game'], labels=avg_time_lang['lang'])\n",
        "plt.title('Avg Watchtime per viewer across Language')\n",
        "plt.show()"
      ],
      "metadata": {
        "colab": {
          "base_uri": "https://localhost:8080/",
          "height": 264
        },
        "id": "NOIAouQcH6oG",
        "outputId": "cb65dd2c-d945-4f91-dfdc-458d55a3d30c"
      },
      "execution_count": null,
      "outputs": [
        {
          "output_type": "display_data",
          "data": {
            "text/plain": [
              "<Figure size 432x288 with 1 Axes>"
            ],
            "image/png": "[encoded data removed]"
          },
          "metadata": {}
        }
      ]
    },
    {
      "cell_type": "code",
      "source": [
        "user_count=final_data['user_id'].nunique()\n",
        "avg_time_game=final_data.groupby(['game'])['time_spent'].agg(['mean']).reset_index()\n",
        "avg_time_game['watch_time_per_game']=(avg_time_game['mean']/user_count)*1000000\n",
        "plt.pie(avg_time_game['watch_time_per_game'], labels=avg_time_game['game'])\n",
        "plt.title('Avg Watchtime per viewer across Game')\n",
        "plt.show()"
      ],
      "metadata": {
        "colab": {
          "base_uri": "https://localhost:8080/",
          "height": 264
        },
        "id": "YlHZgKCOILRu",
        "outputId": "74bca417-b61c-40e9-c148-d0c376072a40"
      },
      "execution_count": null,
      "outputs": [
        {
          "output_type": "display_data",
          "data": {
            "text/plain": [
              "<Figure size 432x288 with 1 Axes>"
            ],
            "image/png": "[encoded data removed]"
          },
          "metadata": {}
        }
      ]
    },
    {
      "cell_type": "code",
      "source": [
        "video_data_cleaned['completion_rate']=video_data_cleaned['watch_100']/video_data_cleaned['unique_viewers'] #Adding a feature called completion rate"
      ],
      "metadata": {
        "id": "5DW2nA5KIgZ3"
      },
      "execution_count": null,
      "outputs": []
    },
    {
      "cell_type": "code",
      "source": [
        "completion_rate=video_data_cleaned.groupby(['game'])['completion_rate'].agg(['mean']).reset_index()\n",
        "completion_rate['watch_time_per_game']=(completion_rate['mean'])*100\n",
        "plt.pie(completion_rate['watch_time_per_game'], labels=completion_rate['game'])\n",
        "plt.title('Completion Rate across Games')\n",
        "plt.show()"
      ],
      "metadata": {
        "colab": {
          "base_uri": "https://localhost:8080/",
          "height": 264
        },
        "id": "Q5o8EFDEIgWe",
        "outputId": "6291d816-1853-4d1b-b6be-15c42ec81631"
      },
      "execution_count": null,
      "outputs": [
        {
          "output_type": "display_data",
          "data": {
            "text/plain": [
              "<Figure size 432x288 with 1 Axes>"
            ],
            "image/png": "[encoded data removed]"
          },
          "metadata": {}
        }
      ]
    },
    {
      "cell_type": "code",
      "source": [
        "completion_rate=video_data_cleaned.groupby(['feed_type'])['completion_rate'].agg(['mean']).reset_index()\n",
        "completion_rate['watch_time_per_game']=(completion_rate['mean'])*100\n",
        "plt.pie(completion_rate['watch_time_per_game'], labels=completion_rate['feed_type'])\n",
        "plt.title('Completion Rate across Reels')\n",
        "plt.show()"
      ],
      "metadata": {
        "colab": {
          "base_uri": "https://localhost:8080/",
          "height": 264
        },
        "id": "p0uz-sVvIgT1",
        "outputId": "cc5d07df-7994-4eb0-f1a1-e6699570b933"
      },
      "execution_count": null,
      "outputs": [
        {
          "output_type": "display_data",
          "data": {
            "text/plain": [
              "<Figure size 432x288 with 1 Axes>"
            ],
            "image/png": "[encoded data removed]"
          },
          "metadata": {}
        }
      ]
    },
    {
      "cell_type": "code",
      "source": [
        "user_count=final_data['user_id'].nunique()\n",
        "avg_time_game=video_data_cleaned.groupby(['game'])['likes'].agg(['mean']).reset_index()\n",
        "avg_time_game['watch_time_per_game']=(avg_time_game['mean']/user_count)*1000000\n",
        "avg_time_game\n",
        "plt.pie(avg_time_game['watch_time_per_game'], labels=avg_time_game['game'])\n",
        "plt.title('Likes per viewer across Game')\n",
        "plt.show()"
      ],
      "metadata": {
        "colab": {
          "base_uri": "https://localhost:8080/",
          "height": 264
        },
        "id": "RkEEXkfjKme-",
        "outputId": "ef87caba-c746-41b3-efea-b95f4a2572ff"
      },
      "execution_count": null,
      "outputs": [
        {
          "output_type": "display_data",
          "data": {
            "text/plain": [
              "<Figure size 432x288 with 1 Axes>"
            ],
            "image/png": "[encoded data removed]"
          },
          "metadata": {}
        }
      ]
    },
    {
      "cell_type": "code",
      "source": [
        "user_count=final_data['user_id'].nunique()\n",
        "avg_time_game=video_data_cleaned.groupby(['game'])['comments'].agg(['mean']).reset_index()\n",
        "avg_time_game['watch_time_per_game']=(avg_time_game['mean']/user_count)*1000000\n",
        "plt.pie(avg_time_game['watch_time_per_game'], labels=avg_time_game['game'])\n",
        "plt.title('Comments per viewer across Game')\n",
        "plt.show()"
      ],
      "metadata": {
        "colab": {
          "base_uri": "https://localhost:8080/",
          "height": 264
        },
        "id": "O2Gzj8pOKmcv",
        "outputId": "dbcf4b9f-3585-44bc-85ce-8e18e1c74e8c"
      },
      "execution_count": null,
      "outputs": [
        {
          "output_type": "display_data",
          "data": {
            "text/plain": [
              "<Figure size 432x288 with 1 Axes>"
            ],
            "image/png": "[encoded data removed]"
          },
          "metadata": {}
        }
      ]
    },
    {
      "cell_type": "code",
      "source": [
        "user_count=final_data['user_id'].nunique()\n",
        "avg_time_game=video_data_cleaned.groupby(['game'])['shares'].agg(['mean']).reset_index()\n",
        "avg_time_game['watch_time_per_game']=(avg_time_game['mean']/user_count)*1000000\n",
        "plt.pie(avg_time_game['watch_time_per_game'], labels=avg_time_game['game'])\n",
        "plt.title('Share per viewer across Game')\n",
        "plt.show()"
      ],
      "metadata": {
        "colab": {
          "base_uri": "https://localhost:8080/",
          "height": 264
        },
        "id": "hJMEwVLzMIZ7",
        "outputId": "db0f86ae-4cd5-4d11-c5b8-387c84c69db3"
      },
      "execution_count": null,
      "outputs": [
        {
          "output_type": "display_data",
          "data": {
            "text/plain": [
              "<Figure size 432x288 with 1 Axes>"
            ],
            "image/png": "[encoded data removed]"
          },
          "metadata": {}
        }
      ]
    },
    {
      "cell_type": "code",
      "source": [],
      "metadata": {
        "id": "cVSCqCf8Qaux"
      },
      "execution_count": null,
      "outputs": []
    },
    {
      "cell_type": "markdown",
      "source": [
        "# Modelling ( 2 Tower Model for Recommendation) Used by Youtube with Context\n",
        "https://research.google.com/pubs/archive/45530.pdf"
      ],
      "metadata": {
        "id": "lfJ4Ch3Kkd2I"
      }
    },
    {
      "cell_type": "markdown",
      "source": [
        "#### Note: Code for 2 Tower Model, aka candidate generation and Retreival model ***using Context*** is not available on the internet. I have implemented this for zee5"
      ],
      "metadata": {
        "id": "TufEOr8NxRuo"
      }
    },
    {
      "cell_type": "markdown",
      "source": [
        "- Converting pandas data frames to tensor dataframes for modelling"
      ],
      "metadata": {
        "id": "HR8sx9r-kkgh"
      }
    },
    {
      "cell_type": "code",
      "source": [
        "# Converting all non object type to onject type so that while converting pandas data frame to tensorflow onject, it doesnt throw an error\n",
        "for columns in final_data:\n",
        "  if(final_data[columns].dtypes!='object'):\n",
        "    final_data[columns]=final_data[columns].astype(str)\n",
        "\n",
        "for columns in video_data_cleaned:\n",
        "  if(video_data_cleaned[columns].dtypes!='object'):\n",
        "    video_data_cleaned[columns]=video_data_cleaned[columns].astype(str)\n",
        "\n",
        "final_data=final_data.dropna() #To avoid error while converting to tensorflow dataframe"
      ],
      "metadata": {
        "id": "vYJKWGQNr7pW"
      },
      "execution_count": null,
      "outputs": []
    },
    {
      "cell_type": "code",
      "source": [
        "ratings = tf.data.Dataset.from_tensor_slices(dict(final_data))\n",
        "#Video_data_cleaned contains the list of titles, aka corpus of video titles. This will be used to create an embedding layer, so if a user doesn't have rating for a title, we'll take that as an\n",
        "# implicit negative feedback. If a user does have a score then it'll be an implicit positive feedback\n",
        "videos = tf.data.Dataset.from_tensor_slices(dict(video_data_cleaned)) \n",
        "\n",
        "ratings = ratings.map(lambda x: {\n",
        "    \"video_title\": x[\"title\"],\n",
        "    \"user_id\": x[\"user_id\"],\n",
        "    \"rating\": float(x[\"score\"]),\n",
        "    \"feed_type\": x[\"feed_type\"],\n",
        "    \"game\": x[\"game\"],\n",
        "    \"genre\": x[\"genre\"]\n",
        "})\n",
        "\n",
        "videos = videos.map(lambda x: { \"video_title\":x[\"title\"],\n",
        "                                \"feed_id\": x[\"feed_id\"]                               \n",
        "                               })\n",
        "videos = videos.map(lambda x: x[\"video_title\"])"
      ],
      "metadata": {
        "id": "VUFwy6KRp5B4"
      },
      "execution_count": null,
      "outputs": []
    },
    {
      "cell_type": "markdown",
      "source": [
        "# Feature Preprocessing using tensorflow.keras"
      ],
      "metadata": {
        "id": "mrxOkGHeu0Jd"
      }
    },
    {
      "cell_type": "markdown",
      "source": [
        "### Preprocessing using tf.keras.layers\n",
        "\n",
        "####String\n",
        "- StringLookup, This will represent string categorical values as integers (uses adapt): https://www.tensorflow.org/api_docs/python/tf/keras/layers/StringLookup\n",
        "- TextVectorization, This will clean up the data (language) (uses adapt): https://www.tensorflow.org/api_docs/python/tf/keras/layers/TextVectorization\n",
        "\n",
        "####Integer\n",
        "- Normalization layer to normalize continous columns : https://www.tensorflow.org/api_docs/python/tf/keras/layers/Normalization\n",
        "- IntegerLookup, To represent as one-hot, multi-hot encoding (uses adapt)\n",
        "- CategoryEncoding, To represent integer categorical values as one-hot or multi-hot, when size of vocab is known https://www.tensorflow.org/api_docs/python/tf/keras/layers/CategoryEncoding\n"
      ],
      "metadata": {
        "id": "xpeReaVDvRZX"
      }
    },
    {
      "cell_type": "code",
      "source": [
        "# Normalization (Numerical Columns)\n",
        "def get_normalization_adapt_layer(name, dataset):\n",
        "\n",
        "  normalizer = tf.keras.layers.Normalization(axis=None)\n",
        "  feature_ds = dataset.map(lambda x: x[name])\n",
        "  normalizer.adapt(feature_ds)\n",
        "\n",
        "  return normalizer"
      ],
      "metadata": {
        "id": "tA7fJdcBvBbT"
      },
      "execution_count": null,
      "outputs": []
    },
    {
      "cell_type": "code",
      "source": [
        "#Categorical Adapt Layer\n",
        "def get_categorical_adapt_layer(name, dataset, dtype, max_tokens=None):\n",
        "\n",
        "  if dtype == 'string':\n",
        "    index = tf.keras.layers.StringLookup(max_tokens=max_tokens)\n",
        "  else:\n",
        "    index = tf.keras.layers.IntegerLookup(max_tokens=max_tokens)\n",
        "\n",
        "  feature_ds = dataset.map(lambda x: x[name])\n",
        "  index.adapt(feature_ds)\n",
        "\n",
        "  return index"
      ],
      "metadata": {
        "id": "qmI4HIDwvBXl"
      },
      "execution_count": null,
      "outputs": []
    },
    {
      "cell_type": "code",
      "source": [
        "#Text Vectorizer Layer\n",
        "def text_vectorize_adapt(name,dataset,max_tokens=None):\n",
        "\n",
        "  vectorizer=tf.keras.layers.experimental.preprocessing.TextVectorization()\n",
        "  feature_ds = dataset.map(lambda x: x[name])\n",
        "  vectorizer.adapt(feature_ds)\n",
        "\n",
        "  return vectorizer"
      ],
      "metadata": {
        "id": "G2QjEo-BvBVL"
      },
      "execution_count": null,
      "outputs": []
    },
    {
      "cell_type": "markdown",
      "source": [
        "- We wouldn't be using this due to limited RAM availability"
      ],
      "metadata": {
        "id": "rB9PzD5lu4Ay"
      }
    },
    {
      "cell_type": "markdown",
      "source": [
        "# Preprocessing features manually"
      ],
      "metadata": {
        "id": "VcoSy8fwwFyT"
      }
    },
    {
      "cell_type": "code",
      "source": [
        "unique_video_title = np.unique(np.concatenate(list(videos.batch(1_00)))) # For Retreival Model, we need embedding for the corpus\n",
        "unique_user_ids = np.unique(np.concatenate(list(ratings.batch(1_00).map(lambda x: x[\"user_id\"]))))\n",
        "feed_types = np.unique(np.concatenate(list(ratings.batch(1_00).map(lambda x: x[\"feed_type\"])))) # To add context in the model's retreival and ranking phase\n",
        "game_types = np.unique(np.concatenate(list(ratings.batch(1_00).map(lambda x: x[\"game\"])))) # To add context in the model's retreival and ranking phase\n",
        "genre_types = np.unique(np.concatenate(list(ratings.batch(1_00).map(lambda x: x[\"genre\"])))) # To add context in the model's retreival and ranking phase"
      ],
      "metadata": {
        "id": "XM0wMUBgrpK0"
      },
      "execution_count": null,
      "outputs": []
    },
    {
      "cell_type": "markdown",
      "source": [
        "# User Model with Context"
      ],
      "metadata": {
        "id": "VzCvIC9zy_nO"
      }
    },
    {
      "cell_type": "markdown",
      "source": [
        "#### Note: For demonstration purpose I've added **feed_type** (reel or video) as context in the whole model"
      ],
      "metadata": {
        "id": "AGiXWLOP92yI"
      }
    },
    {
      "cell_type": "code",
      "source": [
        "class UserModel(tf.keras.Model):\n",
        "  \n",
        "  def __init__(self):\n",
        "    super().__init__()\n",
        "\n",
        "    self.user_embedding = tf.keras.Sequential([\n",
        "        tf.keras.layers.StringLookup(\n",
        "            vocabulary=unique_user_ids, mask_token=None),\n",
        "        tf.keras.layers.Embedding(len(unique_user_ids) + 1, 32),\n",
        "    ])\n",
        "# Adding context (feed_types and game type) embeddings to the model\n",
        "    self.feed_types_embedding = tf.keras.Sequential([\n",
        "        tf.keras.layers.StringLookup(\n",
        "            vocabulary=feed_types, mask_token=None),\n",
        "        tf.keras.layers.Embedding(len(feed_types) + 1, 2),\n",
        "    ])   \n",
        "\n",
        "    self.game_types_embedding = tf.keras.Sequential([\n",
        "        tf.keras.layers.StringLookup(\n",
        "            vocabulary=game_types, mask_token=None),\n",
        "        tf.keras.layers.Embedding(len(game_types) + 1, 2),\n",
        "    ])   \n",
        "\n",
        "    self.genre_types_embedding = tf.keras.Sequential([\n",
        "        tf.keras.layers.StringLookup(\n",
        "            vocabulary=genre_types, mask_token=None),\n",
        "        tf.keras.layers.Embedding(len(genre_types) + 1, 2),\n",
        "    ]) \n",
        "\n",
        "\n",
        "  def call(self, inputs):\n",
        "    return tf.concat([\n",
        "        self.user_embedding(inputs[\"user_id\"]),\n",
        "        self.feed_types_embedding(inputs[\"feed_type\"]), #Passing concatenation of encoding of users and context(feed_type)\n",
        "        self.game_types_embedding(inputs[\"game\"]),\n",
        "        self.genre_types_embedding(inputs[\"genre\"])\n",
        "    ], axis=1)"
      ],
      "metadata": {
        "id": "N508erjhxxXj"
      },
      "execution_count": null,
      "outputs": []
    },
    {
      "cell_type": "markdown",
      "source": [
        "# Video Model"
      ],
      "metadata": {
        "id": "3MDbr2OOzLXB"
      }
    },
    {
      "cell_type": "code",
      "source": [
        "class VideoModel(tf.keras.Model):\n",
        "  \n",
        "  def __init__(self):\n",
        "    super().__init__()\n",
        "\n",
        "    max_tokens = 10_000\n",
        "\n",
        "    self.title_embedding = tf.keras.Sequential([\n",
        "      tf.keras.layers.StringLookup(\n",
        "          vocabulary=unique_video_title, mask_token=None),\n",
        "      tf.keras.layers.Embedding(len(unique_video_title) + 1, 32)\n",
        "    ])\n",
        "\n",
        "# Title Vectorizations and embedding to let model learn meanings of words in the title\n",
        "    self.title_vectorizer = tf.keras.layers.TextVectorization(\n",
        "        max_tokens=max_tokens)\n",
        "\n",
        "    self.title_text_embedding = tf.keras.Sequential([\n",
        "      self.title_vectorizer,\n",
        "      tf.keras.layers.Embedding(max_tokens, 32, mask_zero=True),\n",
        "      tf.keras.layers.GlobalAveragePooling1D(),\n",
        "    ])\n",
        "\n",
        "    self.title_vectorizer.adapt(videos)\n",
        "\n",
        "  def call(self, inputs):\n",
        "    output=tf.concat([\n",
        "        self.title_embedding(inputs),\n",
        "        self.title_text_embedding(inputs)\n",
        "    ], axis=1)\n",
        "    return output"
      ],
      "metadata": {
        "id": "7ZtVK2AFzKpL"
      },
      "execution_count": null,
      "outputs": []
    },
    {
      "cell_type": "markdown",
      "source": [
        "# Combining candidate generation and Ranking algorithms"
      ],
      "metadata": {
        "id": "FiR5HxOpzp5d"
      }
    },
    {
      "cell_type": "markdown",
      "source": [
        "- Retrieval Task (High Precision)\n",
        "\n",
        "Retrieval is getting a list of videos that might get better engagement. Since we have to filter few 100s of videos from a lot of videos, we have to trade off between performance and time\n",
        "\n",
        "> To measure the performance of a Retrieval task, **factorized top-K categorical** accuracy metrics over a corpus of candidates can be used. These metrics measure how good the model is at picking the true candidate out of all possible candidates in the system.\n",
        "\n",
        ">For example, a top-5 categorical accuracy metric of 0.2 would tell us that, on average, the true positive is in the top 5 retrieval items 20% of the time.\n",
        "\n",
        "- Ranking task (High Recall)\n",
        "\n",
        "Ranking is scoring videos got from Retrieval model. Since, we have to deal with less videos, we can build a complex model (like below) for Ranking\n",
        "\n",
        ">This time we are going to predict rating value as the objective. So like the other regression problems we can use **MSE (Mean Squared Error)** as loss function and **RMSE (Root Mean Squared Error)** as an accuracy metric.\n",
        "\n",
        "- Prediction of rating (explicit)\n",
        "\n",
        ">We can create a complex deep learning model to predict ratings based on features"
      ],
      "metadata": {
        "id": "-1jCP_s76FNJ"
      }
    },
    {
      "cell_type": "code",
      "source": [
        "class YoutubeModel(tfrs.models.Model):\n",
        "\n",
        "  def __init__(self, rating_weight: float, retrieval_weight: float) -> None:\n",
        "    # We take the loss weights in the constructor: this allows us to instantiate\n",
        "    # several model objects with different loss weights.\n",
        "\n",
        "    super().__init__()\n",
        "\n",
        "    embedding_dimension = 32 # We can play with this to improve model's performance\n",
        "\n",
        "# For Retreival\n",
        "    self.query_model = tf.keras.Sequential([\n",
        "      UserModel(),\n",
        "      tf.keras.layers.Dense(32)\n",
        "    ])\n",
        "\n",
        "    self.candidate_model = tf.keras.Sequential([\n",
        "      VideoModel(),\n",
        "      tf.keras.layers.Dense(32)\n",
        "    ])\n",
        "\n",
        "# For Ranking\n",
        "    self.user_model: tf.keras.layers.Layer = tf.keras.Sequential([\n",
        "      tf.keras.layers.StringLookup(\n",
        "        vocabulary=unique_user_ids, mask_token=None),\n",
        "      tf.keras.layers.Embedding(len(unique_user_ids) + 1, 32)\n",
        "    ])\n",
        "# Adding context(feed_type, game, genre) to ranking algorithm\n",
        "    self.feed_type_embedding = tf.keras.Sequential([\n",
        "        tf.keras.layers.StringLookup(\n",
        "            vocabulary=feed_types, mask_token=None),\n",
        "        tf.keras.layers.Embedding(len(feed_types) + 1, 32)\n",
        "    ])  \n",
        "\n",
        "    self.game_type_embedding = tf.keras.Sequential([\n",
        "        tf.keras.layers.StringLookup(\n",
        "            vocabulary=game_types, mask_token=None),\n",
        "        tf.keras.layers.Embedding(len(game_types) + 1, 32)\n",
        "    ]) \n",
        "\n",
        "    self.genre_type_embedding = tf.keras.Sequential([\n",
        "        tf.keras.layers.StringLookup(\n",
        "            vocabulary=genre_types, mask_token=None),\n",
        "        tf.keras.layers.Embedding(len(genre_types) + 1, 32)\n",
        "    ]) \n",
        "    \n",
        "\n",
        "    self.video_model: tf.keras.layers.Layer = tf.keras.Sequential([\n",
        "      tf.keras.layers.StringLookup(\n",
        "        vocabulary=unique_video_title, mask_token=None),\n",
        "      tf.keras.layers.Embedding(len(unique_video_title) + 1, 32)\n",
        "    ])  \n",
        "\n",
        "\n",
        "    self.rating_model = tf.keras.Sequential([\n",
        "        tf.keras.layers.Dense(256, activation=\"relu\"),\n",
        "        tf.keras.layers.Dense(128, activation=\"relu\"),\n",
        "        tf.keras.layers.Dense(1),\n",
        "    ])\n",
        "\n",
        "    # Loss Functions for retreival and ranking alogorithms\n",
        "    self.rating_task: tf.keras.layers.Layer = tfrs.tasks.Ranking(\n",
        "        loss=tf.keras.losses.MeanSquaredError(),\n",
        "        metrics=[tf.keras.metrics.RootMeanSquaredError()],\n",
        "    )\n",
        "    self.retrieval_task: tf.keras.layers.Layer = tfrs.tasks.Retrieval(\n",
        "        metrics=tfrs.metrics.FactorizedTopK(\n",
        "            candidates=videos.batch(128).map(self.candidate_model)\n",
        "        )\n",
        "    )\n",
        "\n",
        "\n",
        "    self.rating_weight = rating_weight\n",
        "    self.retrieval_weight = retrieval_weight\n",
        "\n",
        "\n",
        "  def call(self, features, training=False):\n",
        "\n",
        "    user_embeddings=tf.concat([\n",
        "        self.user_model(features[\"user_id\"]),\n",
        "        self.feed_type_embedding(features[\"feed_type\"]),\n",
        "        self.game_type_embedding(features[\"game\"]),\n",
        "        self.genre_type_embedding(features[\"genre\"])\n",
        "    ], axis=1)\n",
        "\n",
        "    video_embeddings = self.video_model(features[\"video_title\"])\n",
        "    \n",
        "\n",
        "    return (\n",
        "        user_embeddings,\n",
        "        video_embeddings,\n",
        "        self.rating_model(\n",
        "            tf.concat([user_embeddings, video_embeddings], axis=1)\n",
        "        ),\n",
        "    )\n",
        "\n",
        "  def compute_loss(self, features, training=False):\n",
        "\n",
        "    ratings = features.pop(\"rating\")\n",
        "\n",
        "    user_embeddings, video_embeddings, rating_predictions = self(features)\n",
        "\n",
        "# Rating Loss\n",
        "    rating_loss = self.rating_task(\n",
        "        labels=ratings,\n",
        "        predictions=rating_predictions,\n",
        "    )\n",
        "\n",
        "# Create different embeddings for retreival task function\n",
        "    query_embeddings = self.query_model({\n",
        "        \"user_id\": features[\"user_id\"]\n",
        "        ,\"feed_type\": features[\"feed_type\"] \n",
        "        ,\"game\": features[\"game\"]      \n",
        "        ,\"genre\": features[\"genre\"]    \n",
        "        })\n",
        "    video_embeddings = self.candidate_model({\n",
        "        \"video_title\": features[\"video_title\"]    \n",
        "        })\n",
        "# Retreival Loss    \n",
        "    retrieval_loss = self.retrieval_task(query_embeddings, video_embeddings)\n",
        "\n",
        "\n",
        "    # And combine them using the loss weights.\n",
        "    return (self.rating_weight * rating_loss\n",
        "        + self.retrieval_weight * retrieval_loss)"
      ],
      "metadata": {
        "id": "78-vHVwWzmIP"
      },
      "execution_count": null,
      "outputs": []
    },
    {
      "cell_type": "code",
      "source": [
        "tf.random.set_seed(42)\n",
        "shuffled = ratings.shuffle(100_000, seed=42, reshuffle_each_iteration=False)\n",
        "\n",
        "train = shuffled.take(80_00)\n",
        "test = shuffled.skip(80_0).take(20_00)\n",
        "\n",
        "cached_train = train.shuffle(100_000).batch(1000)\n",
        "cached_test = test.batch(2090).cache()"
      ],
      "metadata": {
        "id": "G4S11iz61pjE"
      },
      "execution_count": null,
      "outputs": []
    },
    {
      "cell_type": "code",
      "source": [
        "model = YoutubeModel(rating_weight=1.0, retrieval_weight=1.0)\n",
        "model.compile(optimizer=tf.keras.optimizers.Adagrad(0.1))\n",
        "model.fit(cached_train, epochs=10)"
      ],
      "metadata": {
        "colab": {
          "base_uri": "https://localhost:8080/"
        },
        "id": "SoYdHxSs1s94",
        "outputId": "f9d06c41-7c52-43ec-927e-53fb9c7672a2"
      },
      "execution_count": null,
      "outputs": [
        {
          "output_type": "stream",
          "name": "stdout",
          "text": [
            "Epoch 1/10\n"
          ]
        },
        {
          "output_type": "stream",
          "name": "stderr",
          "text": [
            "WARNING:tensorflow:Layers in a Sequential model should only have a single input tensor. Received: inputs={'user_id': <tf.Tensor 'IteratorGetNext:4' shape=(None,) dtype=string>, 'feed_type': <tf.Tensor 'IteratorGetNext:0' shape=(None,) dtype=string>, 'game': <tf.Tensor 'IteratorGetNext:1' shape=(None,) dtype=string>, 'genre': <tf.Tensor 'IteratorGetNext:2' shape=(None,) dtype=string>}. Consider rewriting this model with the Functional API.\n",
            "WARNING:tensorflow:Layers in a Sequential model should only have a single input tensor. Received: inputs={'video_title': <tf.Tensor 'IteratorGetNext:5' shape=(None,) dtype=string>}. Consider rewriting this model with the Functional API.\n",
            "WARNING:tensorflow:Layers in a Sequential model should only have a single input tensor. Received: inputs={'user_id': <tf.Tensor 'IteratorGetNext:4' shape=(None,) dtype=string>, 'feed_type': <tf.Tensor 'IteratorGetNext:0' shape=(None,) dtype=string>, 'game': <tf.Tensor 'IteratorGetNext:1' shape=(None,) dtype=string>, 'genre': <tf.Tensor 'IteratorGetNext:2' shape=(None,) dtype=string>}. Consider rewriting this model with the Functional API.\n",
            "WARNING:tensorflow:Layers in a Sequential model should only have a single input tensor. Received: inputs={'video_title': <tf.Tensor 'IteratorGetNext:5' shape=(None,) dtype=string>}. Consider rewriting this model with the Functional API.\n"
          ]
        },
        {
          "output_type": "stream",
          "name": "stdout",
          "text": [
            "8/8 [==============================] - 27s 2s/step - root_mean_squared_error: 0.7840 - factorized_top_k/top_1_categorical_accuracy: 0.0944 - factorized_top_k/top_5_categorical_accuracy: 0.1256 - factorized_top_k/top_10_categorical_accuracy: 0.1376 - factorized_top_k/top_50_categorical_accuracy: 0.2464 - factorized_top_k/top_100_categorical_accuracy: 0.2951 - loss: 6269.9547 - regularization_loss: 0.0000e+00 - total_loss: 6269.9547\n",
            "Epoch 2/10\n",
            "8/8 [==============================] - 22s 2s/step - root_mean_squared_error: 0.5028 - factorized_top_k/top_1_categorical_accuracy: 0.0726 - factorized_top_k/top_5_categorical_accuracy: 0.1863 - factorized_top_k/top_10_categorical_accuracy: 0.2803 - factorized_top_k/top_50_categorical_accuracy: 0.6026 - factorized_top_k/top_100_categorical_accuracy: 0.7139 - loss: 4785.5192 - regularization_loss: 0.0000e+00 - total_loss: 4785.5192\n",
            "Epoch 3/10\n",
            "8/8 [==============================] - 21s 2s/step - root_mean_squared_error: 0.4883 - factorized_top_k/top_1_categorical_accuracy: 0.1379 - factorized_top_k/top_5_categorical_accuracy: 0.3658 - factorized_top_k/top_10_categorical_accuracy: 0.4980 - factorized_top_k/top_50_categorical_accuracy: 0.7781 - factorized_top_k/top_100_categorical_accuracy: 0.8615 - loss: 3727.3322 - regularization_loss: 0.0000e+00 - total_loss: 3727.3322\n",
            "Epoch 4/10\n",
            "8/8 [==============================] - 27s 3s/step - root_mean_squared_error: 0.4832 - factorized_top_k/top_1_categorical_accuracy: 0.2051 - factorized_top_k/top_5_categorical_accuracy: 0.5769 - factorized_top_k/top_10_categorical_accuracy: 0.7095 - factorized_top_k/top_50_categorical_accuracy: 0.8932 - factorized_top_k/top_100_categorical_accuracy: 0.9505 - loss: 2799.7933 - regularization_loss: 0.0000e+00 - total_loss: 2799.7933\n",
            "Epoch 5/10\n",
            "8/8 [==============================] - 22s 2s/step - root_mean_squared_error: 0.4818 - factorized_top_k/top_1_categorical_accuracy: 0.2685 - factorized_top_k/top_5_categorical_accuracy: 0.7614 - factorized_top_k/top_10_categorical_accuracy: 0.8490 - factorized_top_k/top_50_categorical_accuracy: 0.9631 - factorized_top_k/top_100_categorical_accuracy: 0.9910 - loss: 1971.4018 - regularization_loss: 0.0000e+00 - total_loss: 1971.4018\n",
            "Epoch 6/10\n",
            "8/8 [==============================] - 20s 2s/step - root_mean_squared_error: 0.4837 - factorized_top_k/top_1_categorical_accuracy: 0.3223 - factorized_top_k/top_5_categorical_accuracy: 0.8511 - factorized_top_k/top_10_categorical_accuracy: 0.9082 - factorized_top_k/top_50_categorical_accuracy: 0.9822 - factorized_top_k/top_100_categorical_accuracy: 0.9977 - loss: 1587.2740 - regularization_loss: 0.0000e+00 - total_loss: 1587.2740\n",
            "Epoch 7/10\n",
            "8/8 [==============================] - 20s 2s/step - root_mean_squared_error: 0.4747 - factorized_top_k/top_1_categorical_accuracy: 0.3158 - factorized_top_k/top_5_categorical_accuracy: 0.8865 - factorized_top_k/top_10_categorical_accuracy: 0.9277 - factorized_top_k/top_50_categorical_accuracy: 0.9815 - factorized_top_k/top_100_categorical_accuracy: 0.9989 - loss: 1430.2759 - regularization_loss: 0.0000e+00 - total_loss: 1430.2759\n",
            "Epoch 8/10\n",
            "8/8 [==============================] - 20s 2s/step - root_mean_squared_error: 0.4757 - factorized_top_k/top_1_categorical_accuracy: 0.3324 - factorized_top_k/top_5_categorical_accuracy: 0.9035 - factorized_top_k/top_10_categorical_accuracy: 0.9421 - factorized_top_k/top_50_categorical_accuracy: 0.9865 - factorized_top_k/top_100_categorical_accuracy: 0.9998 - loss: 1354.2573 - regularization_loss: 0.0000e+00 - total_loss: 1354.2573\n",
            "Epoch 9/10\n",
            "8/8 [==============================] - 21s 2s/step - root_mean_squared_error: 0.4804 - factorized_top_k/top_1_categorical_accuracy: 0.3069 - factorized_top_k/top_5_categorical_accuracy: 0.9074 - factorized_top_k/top_10_categorical_accuracy: 0.9451 - factorized_top_k/top_50_categorical_accuracy: 0.9843 - factorized_top_k/top_100_categorical_accuracy: 0.9996 - loss: 1302.4268 - regularization_loss: 0.0000e+00 - total_loss: 1302.4268\n",
            "Epoch 10/10\n",
            "8/8 [==============================] - 24s 2s/step - root_mean_squared_error: 0.4738 - factorized_top_k/top_1_categorical_accuracy: 0.3137 - factorized_top_k/top_5_categorical_accuracy: 0.9179 - factorized_top_k/top_10_categorical_accuracy: 0.9482 - factorized_top_k/top_50_categorical_accuracy: 0.9866 - factorized_top_k/top_100_categorical_accuracy: 0.9999 - loss: 1287.1398 - regularization_loss: 0.0000e+00 - total_loss: 1287.1398\n"
          ]
        },
        {
          "output_type": "execute_result",
          "data": {
            "text/plain": [
              "<keras.callbacks.History at 0x7f42841c5fd0>"
            ]
          },
          "metadata": {},
          "execution_count": 104
        }
      ]
    },
    {
      "cell_type": "markdown",
      "source": [
        "# Model Evaluation"
      ],
      "metadata": {
        "id": "UII6U7Ak2sVg"
      }
    },
    {
      "cell_type": "code",
      "source": [
        "metrics = model.evaluate(cached_test, return_dict=True)\n",
        "\n",
        "print(f\"\\nRetrieval top-100 accuracy: {metrics['factorized_top_k/top_100_categorical_accuracy']:.3f}\")\n",
        "print(f\"Ranking RMSE: {metrics['root_mean_squared_error']:.3f}\")"
      ],
      "metadata": {
        "colab": {
          "base_uri": "https://localhost:8080/"
        },
        "id": "9AkCC8AG10LC",
        "outputId": "674a4b53-0791-4899-bee0-038938f06d04"
      },
      "execution_count": null,
      "outputs": [
        {
          "output_type": "stream",
          "name": "stderr",
          "text": [
            "WARNING:tensorflow:Layers in a Sequential model should only have a single input tensor. Received: inputs={'user_id': <tf.Tensor 'IteratorGetNext:4' shape=(None,) dtype=string>, 'feed_type': <tf.Tensor 'IteratorGetNext:0' shape=(None,) dtype=string>, 'game': <tf.Tensor 'IteratorGetNext:1' shape=(None,) dtype=string>, 'genre': <tf.Tensor 'IteratorGetNext:2' shape=(None,) dtype=string>}. Consider rewriting this model with the Functional API.\n",
            "WARNING:tensorflow:Layers in a Sequential model should only have a single input tensor. Received: inputs={'video_title': <tf.Tensor 'IteratorGetNext:5' shape=(None,) dtype=string>}. Consider rewriting this model with the Functional API.\n"
          ]
        },
        {
          "output_type": "stream",
          "name": "stdout",
          "text": [
            "1/1 [==============================] - 13s 13s/step - root_mean_squared_error: 0.4622 - factorized_top_k/top_1_categorical_accuracy: 0.6445 - factorized_top_k/top_5_categorical_accuracy: 0.9610 - factorized_top_k/top_10_categorical_accuracy: 0.9780 - factorized_top_k/top_50_categorical_accuracy: 0.9945 - factorized_top_k/top_100_categorical_accuracy: 1.0000 - loss: 3455.3335 - regularization_loss: 0.0000e+00 - total_loss: 3455.3335\n",
            "\n",
            "Retrieval top-100 accuracy: 1.000\n",
            "Ranking RMSE: 0.462\n"
          ]
        }
      ]
    },
    {
      "cell_type": "markdown",
      "source": [
        "# Model Prediction \n",
        "> We can use bruteforce or scann for this purpose. BruteForce (tfrs.layers.factorized_top_k.BruteForce) takes more time but is more accurate. Scann (tfrs.layers.factorized_top_k.ScaNN) takes less time, but is not as good as BruteForce"
      ],
      "metadata": {
        "id": "0UlqT-j18SgV"
      }
    },
    {
      "cell_type": "markdown",
      "source": [
        "#### BruteForce method"
      ],
      "metadata": {
        "id": "WnXCXJww81Ll"
      }
    },
    {
      "cell_type": "code",
      "source": [
        "def predict_videos_brute(user, top_n=3):\n",
        "    # Create a model that takes in raw query features, and\n",
        "    index = tfrs.layers.factorized_top_k.BruteForce(model.user_model)\n",
        "    # recommends videos out of the entire videos dataset.\n",
        "    index.index_from_dataset(\n",
        "      tf.data.Dataset.zip((videos.batch(100), videos.batch(100).map(model.candidate_model)))\n",
        "    )\n",
        "\n",
        "    # Get recommendations.\n",
        "    _, titles = index(tf.constant([str(user)]))\n",
        "    \n",
        "    print('Top {} recommendations for user {}:\\n'.format(top_n, user))\n",
        "    for i, title in enumerate(titles[0, :top_n].numpy()):\n",
        "        print('{}. {}'.format(i+1, title.decode(\"utf-8\")))\n",
        "\n",
        "# def predict_rating(user, movie):\n",
        "#     trained_movie_embeddings, trained_user_embeddings, predicted_rating = model({\n",
        "#           \"user_id\": np.array([str(user)]),\n",
        "#           \"video_title\": np.array([movie])\n",
        "#       })\n",
        "#     print(\"Predicted rating for {}: {}\".format(videos, predicted_rating.numpy()[0][0]))"
      ],
      "metadata": {
        "id": "NvvgwSrG2u14"
      },
      "execution_count": null,
      "outputs": []
    },
    {
      "cell_type": "code",
      "source": [
        "predict_videos_brute(6309124329467062111, 5) #prediction for userid=6309124329467062111"
      ],
      "metadata": {
        "colab": {
          "base_uri": "https://localhost:8080/"
        },
        "id": "vjHqumlA22Mq",
        "outputId": "1e3e3487-ef56-49d9-82a6-e65bf0c7e7eb"
      },
      "execution_count": null,
      "outputs": [
        {
          "output_type": "stream",
          "name": "stdout",
          "text": [
            "Top 5 recommendations for user 6309124329467062111:\n",
            "\n",
            "1. Noob To Pro 😍 | Free Fire New Video | #NoobToPro #DiamondsGiveaway #FreeFire\n",
            "2. tier 1 montage | bgmi | ORJELLY, #Free Fire\n",
            "3. Guess The Youtuber By Their Laugh Challenge😂😂, #Free Fire\n",
            "4. INDIA'S FASTEST PLAYER IN BGMI 💐🔥😭😎, #Battle Ground Mobile India\n",
            "5. 😍Free M416 Glacier In Pubg Mobile | Pubg Mobile New Wish Event , #Battle Ground Mobile India\n"
          ]
        }
      ]
    },
    {
      "cell_type": "markdown",
      "source": [
        "#### Scann Method"
      ],
      "metadata": {
        "id": "D40naCsv9kPK"
      }
    },
    {
      "cell_type": "code",
      "source": [
        "def predict_videos_scann(user, top_n=3):\n",
        "    # Create a model that takes in raw query features, and\n",
        "    index = tfrs.layers.factorized_top_k.ScaNN(model.user_model)\n",
        "    # recommends videos out of the entire videos dataset.\n",
        "    index.index_from_dataset(\n",
        "      tf.data.Dataset.zip((videos.batch(100), videos.batch(100).map(model.candidate_model)))\n",
        "    )\n",
        "\n",
        "    # Get recommendations.\n",
        "    _, titles = index(tf.constant([str(user)]))\n",
        "    \n",
        "    print('Top {} recommendations for user {}:\\n'.format(top_n, user))\n",
        "    for i, title in enumerate(titles[0, :top_n].numpy()):\n",
        "        print('{}. {}'.format(i+1, title.decode(\"utf-8\")))\n",
        "\n",
        "# def predict_rating(user, movie):\n",
        "#     trained_movie_embeddings, trained_user_embeddings, predicted_rating = model({\n",
        "#           \"user_id\": np.array([str(user)]),\n",
        "#           \"video_title\": np.array([movie])\n",
        "#       })\n",
        "#     print(\"Predicted rating for {}: {}\".format(videos, predicted_rating.numpy()[0][0]))"
      ],
      "metadata": {
        "id": "z8qb1tq03mPI"
      },
      "execution_count": null,
      "outputs": []
    },
    {
      "cell_type": "code",
      "source": [
        "predict_videos_scann(6309124329467062111, 5) #prediction for userid=6309124329467062111"
      ],
      "metadata": {
        "colab": {
          "base_uri": "https://localhost:8080/"
        },
        "id": "bJesrRV187lG",
        "outputId": "c56862a3-4549-4d6e-bc62-d4e24fa3db27"
      },
      "execution_count": null,
      "outputs": [
        {
          "output_type": "stream",
          "name": "stdout",
          "text": [
            "Top 5 recommendations for user 6309124329467062111:\n",
            "\n",
            "1. Minecraft tips and tricks/how to make obsidian/how to make steal and flint\n",
            "2. Funny Moments In Minecraft Hypixel Bedwars 🤣🤣\n",
            "3. Noob To Pro 😍 | Free Fire New Video | #NoobToPro #DiamondsGiveaway #FreeFire\n",
            "4. Dark Secret of Free Fire 😱 || Evolution Of Free Fire 🥺\n",
            "5. OMG 😱 ONLY ONE TAP GAMEPLAY ALL RED Number 🔥 ONETAP KING 👑 BASEER BHAI, #Free Fire\n"
          ]
        }
      ]
    },
    {
      "cell_type": "code",
      "source": [],
      "metadata": {
        "id": "tKsFprQi88mm"
      },
      "execution_count": null,
      "outputs": []
    }
  ]
}