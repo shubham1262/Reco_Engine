{
  "nbformat": 4,
  "nbformat_minor": 0,
  "metadata": {
    "colab": {
      "provenance": [],
      "authorship_tag": "ABX9TyNlylkCP4Z6i5EPZ3ZV/pTZ",
      "include_colab_link": true
    },
    "kernelspec": {
      "name": "python3",
      "display_name": "Python 3"
    },
    "language_info": {
      "name": "python"
    }
  },
  "cells": [
    {
      "cell_type": "markdown",
      "metadata": {
        "id": "view-in-github",
        "colab_type": "text"
      },
      "source": [
        "<a href=\"https://colab.research.google.com/github/shubham1262/Reco_Engine/blob/main/Content_Type_Recommendation_System_(Matrix_Multiplication).ipynb\" target=\"_parent\"><img src=\"https://colab.research.google.com/assets/colab-badge.svg\" alt=\"Open In Colab\"/></a>"
      ]
    },
    {
      "cell_type": "code",
      "execution_count": null,
      "metadata": {
        "id": "aMNyxTzHyo1T"
      },
      "outputs": [],
      "source": [
        "import numpy as np\n",
        "import tensorflow as tf"
      ]
    },
    {
      "cell_type": "markdown",
      "source": [
        "#Create Dataset\n",
        "-For illustration purpose, assuming 3 users and 6 movies with 4 features (genre)"
      ],
      "metadata": {
        "id": "SqokUUOLzQRF"
      }
    },
    {
      "cell_type": "code",
      "source": [
        "users=['Prashant','Shubham','Subhangi']\n",
        "movies=['Pathan','Tiger','Top Gun','Dr Strange','Grown Ups','Grown Ups 2']\n",
        "features=['Action','Comedy','Fiction','Sci-Fi']"
      ],
      "metadata": {
        "id": "9XFI_QXSzYFL"
      },
      "execution_count": null,
      "outputs": []
    },
    {
      "cell_type": "markdown",
      "source": [
        "User Movies Rating"
      ],
      "metadata": {
        "id": "WG0ywmp10DS2"
      }
    },
    {
      "cell_type": "code",
      "source": [
        "user_movies = tf.constant([\n",
        "    [6,7,8,0,0,0],\n",
        "    [0,0,0,0,10,10],\n",
        "    [0,0,0,10,0,0],\n",
        "], dtype=tf.float32)\n",
        "\n",
        "movie_features = tf.constant([\n",
        "    [1,1,0,0],\n",
        "    [1,0,0,0],\n",
        "    [1,1,0,0],\n",
        "    [1,0,1,1],\n",
        "    [0,1,0,1],\n",
        "    [0,1,0,1]\n",
        "], dtype=tf.float32)"
      ],
      "metadata": {
        "id": "5iEiSqaUz6-F"
      },
      "execution_count": null,
      "outputs": []
    },
    {
      "cell_type": "markdown",
      "source": [
        "# Getting User Feature Matrix\n",
        "-Matrix multiplication to get User-> feature matrix from user-movie and movie-feature matrix"
      ],
      "metadata": {
        "id": "rhMyLOE-1kzn"
      }
    },
    {
      "cell_type": "code",
      "source": [
        "user_feature=tf.matmul(user_movies,movie_features)\n",
        "user_feature"
      ],
      "metadata": {
        "colab": {
          "base_uri": "https://localhost:8080/"
        },
        "id": "icOqhlY71j85",
        "outputId": "429dd3dc-6fe1-4bde-eb2d-0696a3019889"
      },
      "execution_count": null,
      "outputs": [
        {
          "output_type": "execute_result",
          "data": {
            "text/plain": [
              "<tf.Tensor: shape=(3, 4), dtype=float32, numpy=\n",
              "array([[21., 14.,  0.,  0.],\n",
              "       [ 0., 20.,  0., 20.],\n",
              "       [10.,  0., 10., 10.]], dtype=float32)>"
            ]
          },
          "metadata": {},
          "execution_count": 82
        }
      ]
    },
    {
      "cell_type": "markdown",
      "source": [
        "Normalizing values across columns"
      ],
      "metadata": {
        "id": "RiPV-Hsb2sIZ"
      }
    },
    {
      "cell_type": "code",
      "source": [
        "user_features=user_feature/tf.reduce_sum(user_feature,axis=0)\n",
        "user_features"
      ],
      "metadata": {
        "colab": {
          "base_uri": "https://localhost:8080/"
        },
        "id": "VUvn9oZ31zS4",
        "outputId": "ea917dc7-8779-4af5-c7e5-37a5da7fb1ba"
      },
      "execution_count": null,
      "outputs": [
        {
          "output_type": "execute_result",
          "data": {
            "text/plain": [
              "<tf.Tensor: shape=(3, 4), dtype=float32, numpy=\n",
              "array([[0.67741936, 0.4117647 , 0.        , 0.        ],\n",
              "       [0.        , 0.5882353 , 0.        , 0.6666667 ],\n",
              "       [0.32258064, 0.        , 1.        , 0.33333334]], dtype=float32)>"
            ]
          },
          "metadata": {},
          "execution_count": 83
        }
      ]
    },
    {
      "cell_type": "markdown",
      "source": [],
      "metadata": {
        "id": "f_NPGic54ZKD"
      }
    },
    {
      "cell_type": "code",
      "source": [
        "#Number of features is to give ranking a limit\n",
        "user_feature_ranking=tf.nn.top_k(user_features,len(features))[1]\n",
        "user_feature_ranking"
      ],
      "metadata": {
        "colab": {
          "base_uri": "https://localhost:8080/"
        },
        "id": "IyJyYRB62gxb",
        "outputId": "d3841f1e-813a-4bf5-8d20-94cb297dc7f5"
      },
      "execution_count": null,
      "outputs": [
        {
          "output_type": "execute_result",
          "data": {
            "text/plain": [
              "<tf.Tensor: shape=(3, 4), dtype=int32, numpy=\n",
              "array([[0, 1, 2, 3],\n",
              "       [3, 1, 0, 2],\n",
              "       [2, 3, 0, 1]], dtype=int32)>"
            ]
          },
          "metadata": {},
          "execution_count": 84
        }
      ]
    },
    {
      "cell_type": "markdown",
      "source": [
        "Ranking feature relevance for each user"
      ],
      "metadata": {
        "id": "NaZM-HnbAACc"
      }
    },
    {
      "cell_type": "code",
      "source": [
        "for i in range(len(users)):\n",
        "  print(\"{}: {}\".format(users[i],[features[int(index)] for index in user_feature_ranking[i]]))"
      ],
      "metadata": {
        "colab": {
          "base_uri": "https://localhost:8080/"
        },
        "id": "zxWblsEy4RGx",
        "outputId": "dc8be5b8-b511-46be-e001-b9f74c79a439"
      },
      "execution_count": null,
      "outputs": [
        {
          "output_type": "stream",
          "name": "stdout",
          "text": [
            "Prashant: ['Action', 'Comedy', 'Fiction', 'Sci-Fi']\n",
            "Shubham: ['Sci-Fi', 'Comedy', 'Action', 'Fiction']\n",
            "Subhangi: ['Fiction', 'Sci-Fi', 'Action', 'Comedy']\n"
          ]
        }
      ]
    },
    {
      "cell_type": "markdown",
      "source": [
        "#Similarity Score\n",
        "-User-Movie Ratings (Dot product of user_feature and movie_feature matrix)"
      ],
      "metadata": {
        "id": "DgCfABTFADP6"
      }
    },
    {
      "cell_type": "code",
      "source": [
        "user_ratings=tf.matmul(user_features,tf.transpose(movie_features))\n",
        "user_ratings"
      ],
      "metadata": {
        "colab": {
          "base_uri": "https://localhost:8080/"
        },
        "id": "R2oj9Qz15fft",
        "outputId": "56490b72-9040-41d1-c42e-6ac6b79adda3"
      },
      "execution_count": null,
      "outputs": [
        {
          "output_type": "execute_result",
          "data": {
            "text/plain": [
              "<tf.Tensor: shape=(3, 6), dtype=float32, numpy=\n",
              "array([[1.089184  , 0.67741936, 1.089184  , 0.67741936, 0.4117647 ,\n",
              "        0.4117647 ],\n",
              "       [0.5882353 , 0.        , 0.5882353 , 0.6666667 , 1.254902  ,\n",
              "        1.254902  ],\n",
              "       [0.32258064, 0.32258064, 0.32258064, 1.655914  , 0.33333334,\n",
              "        0.33333334]], dtype=float32)>"
            ]
          },
          "metadata": {},
          "execution_count": 86
        }
      ]
    },
    {
      "cell_type": "markdown",
      "source": [
        "Ignore movies that were already rated"
      ],
      "metadata": {
        "id": "ByqOibOUB-5N"
      }
    },
    {
      "cell_type": "code",
      "source": [
        "users_unseen_movies = tf.equal(user_movies, tf.zeros_like(user_movies))\n",
        "ignore_matrix = tf.zeros_like(user_movies)"
      ],
      "metadata": {
        "id": "B0tEoQ5OBzV4"
      },
      "execution_count": null,
      "outputs": []
    },
    {
      "cell_type": "code",
      "source": [
        "users_ratings_new = tf.where(\n",
        "    users_unseen_movies,\n",
        "    user_ratings, #Displays if condition passes from this matrix\n",
        "    ignore_matrix) #Displays if condition fails from this matrix"
      ],
      "metadata": {
        "id": "gtqsolxFBwld"
      },
      "execution_count": null,
      "outputs": []
    },
    {
      "cell_type": "code",
      "source": [
        "users_ratings_new"
      ],
      "metadata": {
        "colab": {
          "base_uri": "https://localhost:8080/"
        },
        "id": "bAVq17zICwIn",
        "outputId": "17f7e089-58a1-4581-9b13-2f3bbfbcb64f"
      },
      "execution_count": null,
      "outputs": [
        {
          "output_type": "execute_result",
          "data": {
            "text/plain": [
              "<tf.Tensor: shape=(3, 6), dtype=float32, numpy=\n",
              "array([[0.        , 0.        , 0.        , 0.67741936, 0.4117647 ,\n",
              "        0.4117647 ],\n",
              "       [0.5882353 , 0.        , 0.5882353 , 0.6666667 , 0.        ,\n",
              "        0.        ],\n",
              "       [0.32258064, 0.32258064, 0.32258064, 0.        , 0.33333334,\n",
              "        0.33333334]], dtype=float32)>"
            ]
          },
          "metadata": {},
          "execution_count": 89
        }
      ]
    },
    {
      "cell_type": "markdown",
      "source": [
        "#Final Recommendation"
      ],
      "metadata": {
        "id": "TOmavQeVFQ4s"
      }
    },
    {
      "cell_type": "code",
      "source": [
        "# 2 denotes how many recommendation/top n indexes you'd like to get\n",
        "reco_index=tf.nn.top_k(users_ratings_new,2)[1]\n",
        "reco_index"
      ],
      "metadata": {
        "colab": {
          "base_uri": "https://localhost:8080/"
        },
        "id": "0NWvG-KsCxrj",
        "outputId": "61276f82-3e6e-4948-93cc-c11c7d7ce34c"
      },
      "execution_count": null,
      "outputs": [
        {
          "output_type": "execute_result",
          "data": {
            "text/plain": [
              "<tf.Tensor: shape=(3, 2), dtype=int32, numpy=\n",
              "array([[3, 4],\n",
              "       [3, 0],\n",
              "       [4, 5]], dtype=int32)>"
            ]
          },
          "metadata": {},
          "execution_count": 90
        }
      ]
    },
    {
      "cell_type": "markdown",
      "source": [
        "Display recommendations across users"
      ],
      "metadata": {
        "id": "qvPgFocYDuLq"
      }
    },
    {
      "cell_type": "code",
      "source": [
        "for i in range(len(users)):\n",
        "  print(\"{}: {}\".format(users[i],[movies[int(index)] for index in reco_index[i]]))"
      ],
      "metadata": {
        "colab": {
          "base_uri": "https://localhost:8080/"
        },
        "id": "XHnC5QlnDG_T",
        "outputId": "6d7a48f8-8845-4a48-99cb-af560ba38418"
      },
      "execution_count": null,
      "outputs": [
        {
          "output_type": "stream",
          "name": "stdout",
          "text": [
            "Prashant: ['Dr Strange', 'Grown Ups']\n",
            "Shubham: ['Dr Strange', 'Pathan']\n",
            "Subhangi: ['Grown Ups', 'Grown Ups 2']\n"
          ]
        }
      ]
    }
  ]
}